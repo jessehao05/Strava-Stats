{
 "cells": [
  {
   "cell_type": "code",
   "execution_count": 20,
   "metadata": {},
   "outputs": [],
   "source": [
    "import pandas as pd\n",
    "import matplotlib.pyplot as plt\n",
    "import plotly.express as px"
   ]
  },
  {
   "cell_type": "code",
   "execution_count": 4,
   "metadata": {},
   "outputs": [],
   "source": [
    "df_raw = pd.read_csv('activities_12_28_2024.csv')"
   ]
  },
  {
   "cell_type": "code",
   "execution_count": 5,
   "metadata": {},
   "outputs": [
    {
     "data": {
      "text/html": [
       "<div>\n",
       "<style scoped>\n",
       "    .dataframe tbody tr th:only-of-type {\n",
       "        vertical-align: middle;\n",
       "    }\n",
       "\n",
       "    .dataframe tbody tr th {\n",
       "        vertical-align: top;\n",
       "    }\n",
       "\n",
       "    .dataframe thead th {\n",
       "        text-align: right;\n",
       "    }\n",
       "</style>\n",
       "<table border=\"1\" class=\"dataframe\">\n",
       "  <thead>\n",
       "    <tr style=\"text-align: right;\">\n",
       "      <th></th>\n",
       "      <th>Date</th>\n",
       "      <th>Name</th>\n",
       "      <th>Type</th>\n",
       "      <th>Description</th>\n",
       "      <th>Elapsed Time</th>\n",
       "      <th>Moving Time</th>\n",
       "      <th>Distance</th>\n",
       "      <th>Elevation Gain</th>\n",
       "      <th>Elevation Loss</th>\n",
       "    </tr>\n",
       "  </thead>\n",
       "  <tbody>\n",
       "    <tr>\n",
       "      <th>0</th>\n",
       "      <td>Jun 8, 2021, 10:57:53 PM</td>\n",
       "      <td>Evening Run</td>\n",
       "      <td>Run</td>\n",
       "      <td>NaN</td>\n",
       "      <td>2999</td>\n",
       "      <td>1805</td>\n",
       "      <td>5.35</td>\n",
       "      <td>138.346207</td>\n",
       "      <td>138.345993</td>\n",
       "    </tr>\n",
       "    <tr>\n",
       "      <th>1</th>\n",
       "      <td>Jun 10, 2021, 11:27:28 PM</td>\n",
       "      <td>Evening Run</td>\n",
       "      <td>Run</td>\n",
       "      <td>NaN</td>\n",
       "      <td>1959</td>\n",
       "      <td>1917</td>\n",
       "      <td>4.88</td>\n",
       "      <td>115.467758</td>\n",
       "      <td>128.367996</td>\n",
       "    </tr>\n",
       "    <tr>\n",
       "      <th>2</th>\n",
       "      <td>Jun 11, 2021, 10:03:23 PM</td>\n",
       "      <td>Evening Run</td>\n",
       "      <td>Run</td>\n",
       "      <td>NaN</td>\n",
       "      <td>1088</td>\n",
       "      <td>1073</td>\n",
       "      <td>3.22</td>\n",
       "      <td>81.699196</td>\n",
       "      <td>81.599197</td>\n",
       "    </tr>\n",
       "    <tr>\n",
       "      <th>3</th>\n",
       "      <td>Jun 12, 2021, 12:33:07 PM</td>\n",
       "      <td>Morning Run</td>\n",
       "      <td>Run</td>\n",
       "      <td>NaN</td>\n",
       "      <td>517</td>\n",
       "      <td>517</td>\n",
       "      <td>1.69</td>\n",
       "      <td>48.912777</td>\n",
       "      <td>49.012798</td>\n",
       "    </tr>\n",
       "    <tr>\n",
       "      <th>4</th>\n",
       "      <td>Jun 16, 2021, 1:08:01 AM</td>\n",
       "      <td>Evening Run</td>\n",
       "      <td>Run</td>\n",
       "      <td>NaN</td>\n",
       "      <td>1187</td>\n",
       "      <td>1007</td>\n",
       "      <td>1.71</td>\n",
       "      <td>0.000000</td>\n",
       "      <td>0.100000</td>\n",
       "    </tr>\n",
       "    <tr>\n",
       "      <th>...</th>\n",
       "      <td>...</td>\n",
       "      <td>...</td>\n",
       "      <td>...</td>\n",
       "      <td>...</td>\n",
       "      <td>...</td>\n",
       "      <td>...</td>\n",
       "      <td>...</td>\n",
       "      <td>...</td>\n",
       "      <td>...</td>\n",
       "    </tr>\n",
       "    <tr>\n",
       "      <th>366</th>\n",
       "      <td>Mar 9, 2024, 4:24:34 PM</td>\n",
       "      <td>Afternoon Run</td>\n",
       "      <td>Run</td>\n",
       "      <td>Five guys</td>\n",
       "      <td>788077</td>\n",
       "      <td>357</td>\n",
       "      <td>0.97</td>\n",
       "      <td>0.000000</td>\n",
       "      <td>0.000000</td>\n",
       "    </tr>\n",
       "    <tr>\n",
       "      <th>367</th>\n",
       "      <td>Jul 3, 2024, 12:34:40 PM</td>\n",
       "      <td>Morning Run</td>\n",
       "      <td>Run</td>\n",
       "      <td>NaN</td>\n",
       "      <td>1889</td>\n",
       "      <td>1540</td>\n",
       "      <td>4.86</td>\n",
       "      <td>13.916079</td>\n",
       "      <td>23.094755</td>\n",
       "    </tr>\n",
       "    <tr>\n",
       "      <th>368</th>\n",
       "      <td>Nov 13, 2024, 11:00:00 PM</td>\n",
       "      <td>Evening Run</td>\n",
       "      <td>Run</td>\n",
       "      <td>treadmill run</td>\n",
       "      <td>2056</td>\n",
       "      <td>2056</td>\n",
       "      <td>6.43</td>\n",
       "      <td>0.000000</td>\n",
       "      <td>NaN</td>\n",
       "    </tr>\n",
       "    <tr>\n",
       "      <th>369</th>\n",
       "      <td>Nov 15, 2024, 1:01:26 PM</td>\n",
       "      <td>Morning Run</td>\n",
       "      <td>Run</td>\n",
       "      <td>paused watch for 0.5</td>\n",
       "      <td>5181</td>\n",
       "      <td>1763</td>\n",
       "      <td>5.75</td>\n",
       "      <td>44.248997</td>\n",
       "      <td>57.565666</td>\n",
       "    </tr>\n",
       "    <tr>\n",
       "      <th>370</th>\n",
       "      <td>Dec 28, 2024, 1:59:43 PM</td>\n",
       "      <td>Morning Run</td>\n",
       "      <td>Run</td>\n",
       "      <td>With Channing tan 😎</td>\n",
       "      <td>2520</td>\n",
       "      <td>2117</td>\n",
       "      <td>6.45</td>\n",
       "      <td>56.541859</td>\n",
       "      <td>56.935192</td>\n",
       "    </tr>\n",
       "  </tbody>\n",
       "</table>\n",
       "<p>371 rows × 9 columns</p>\n",
       "</div>"
      ],
      "text/plain": [
       "                          Date           Name Type           Description  \\\n",
       "0     Jun 8, 2021, 10:57:53 PM    Evening Run  Run                   NaN   \n",
       "1    Jun 10, 2021, 11:27:28 PM    Evening Run  Run                   NaN   \n",
       "2    Jun 11, 2021, 10:03:23 PM    Evening Run  Run                   NaN   \n",
       "3    Jun 12, 2021, 12:33:07 PM    Morning Run  Run                   NaN   \n",
       "4     Jun 16, 2021, 1:08:01 AM    Evening Run  Run                   NaN   \n",
       "..                         ...            ...  ...                   ...   \n",
       "366    Mar 9, 2024, 4:24:34 PM  Afternoon Run  Run             Five guys   \n",
       "367   Jul 3, 2024, 12:34:40 PM    Morning Run  Run                   NaN   \n",
       "368  Nov 13, 2024, 11:00:00 PM    Evening Run  Run         treadmill run   \n",
       "369   Nov 15, 2024, 1:01:26 PM    Morning Run  Run  paused watch for 0.5   \n",
       "370   Dec 28, 2024, 1:59:43 PM    Morning Run  Run   With Channing tan 😎   \n",
       "\n",
       "     Elapsed Time  Moving Time  Distance  Elevation Gain  Elevation Loss  \n",
       "0            2999         1805      5.35      138.346207      138.345993  \n",
       "1            1959         1917      4.88      115.467758      128.367996  \n",
       "2            1088         1073      3.22       81.699196       81.599197  \n",
       "3             517          517      1.69       48.912777       49.012798  \n",
       "4            1187         1007      1.71        0.000000        0.100000  \n",
       "..            ...          ...       ...             ...             ...  \n",
       "366        788077          357      0.97        0.000000        0.000000  \n",
       "367          1889         1540      4.86       13.916079       23.094755  \n",
       "368          2056         2056      6.43        0.000000             NaN  \n",
       "369          5181         1763      5.75       44.248997       57.565666  \n",
       "370          2520         2117      6.45       56.541859       56.935192  \n",
       "\n",
       "[371 rows x 9 columns]"
      ]
     },
     "execution_count": 5,
     "metadata": {},
     "output_type": "execute_result"
    }
   ],
   "source": [
    "# select relevant columns and rename for convenience\n",
    "df_runs = df_raw[['Activity Date','Activity Name','Activity Type','Activity Description',\n",
    "                  'Elapsed Time','Moving Time','Distance','Elevation Gain','Elevation Loss']]\n",
    "df_runs = df_runs.rename(columns = {'Activity Date':'Date', 'Activity Name':'Name',\n",
    "                                    'Activity Type':'Type','Activity Description':'Description'})\n",
    "df_runs"
   ]
  },
  {
   "cell_type": "code",
   "execution_count": 6,
   "metadata": {},
   "outputs": [
    {
     "data": {
      "text/html": [
       "<div>\n",
       "<style scoped>\n",
       "    .dataframe tbody tr th:only-of-type {\n",
       "        vertical-align: middle;\n",
       "    }\n",
       "\n",
       "    .dataframe tbody tr th {\n",
       "        vertical-align: top;\n",
       "    }\n",
       "\n",
       "    .dataframe thead th {\n",
       "        text-align: right;\n",
       "    }\n",
       "</style>\n",
       "<table border=\"1\" class=\"dataframe\">\n",
       "  <thead>\n",
       "    <tr style=\"text-align: right;\">\n",
       "      <th></th>\n",
       "      <th>Date</th>\n",
       "      <th>Name</th>\n",
       "      <th>Type</th>\n",
       "      <th>Description</th>\n",
       "      <th>Elapsed Time</th>\n",
       "      <th>Moving Time</th>\n",
       "      <th>Distance</th>\n",
       "      <th>Elevation Gain</th>\n",
       "      <th>Elevation Loss</th>\n",
       "      <th>Pace</th>\n",
       "    </tr>\n",
       "  </thead>\n",
       "  <tbody>\n",
       "    <tr>\n",
       "      <th>0</th>\n",
       "      <td>Jun 8, 2021, 10:57:53 PM</td>\n",
       "      <td>Evening Run</td>\n",
       "      <td>Run</td>\n",
       "      <td>NaN</td>\n",
       "      <td>49.983333</td>\n",
       "      <td>30.083333</td>\n",
       "      <td>3.32235</td>\n",
       "      <td>138.346207</td>\n",
       "      <td>138.345993</td>\n",
       "      <td>9.054836</td>\n",
       "    </tr>\n",
       "    <tr>\n",
       "      <th>1</th>\n",
       "      <td>Jun 10, 2021, 11:27:28 PM</td>\n",
       "      <td>Evening Run</td>\n",
       "      <td>Run</td>\n",
       "      <td>NaN</td>\n",
       "      <td>32.650000</td>\n",
       "      <td>31.950000</td>\n",
       "      <td>3.03048</td>\n",
       "      <td>115.467758</td>\n",
       "      <td>128.367996</td>\n",
       "      <td>10.542884</td>\n",
       "    </tr>\n",
       "    <tr>\n",
       "      <th>2</th>\n",
       "      <td>Jun 11, 2021, 10:03:23 PM</td>\n",
       "      <td>Evening Run</td>\n",
       "      <td>Run</td>\n",
       "      <td>NaN</td>\n",
       "      <td>18.133333</td>\n",
       "      <td>17.883333</td>\n",
       "      <td>1.99962</td>\n",
       "      <td>81.699196</td>\n",
       "      <td>81.599197</td>\n",
       "      <td>8.943366</td>\n",
       "    </tr>\n",
       "    <tr>\n",
       "      <th>3</th>\n",
       "      <td>Jun 12, 2021, 12:33:07 PM</td>\n",
       "      <td>Morning Run</td>\n",
       "      <td>Run</td>\n",
       "      <td>NaN</td>\n",
       "      <td>8.616667</td>\n",
       "      <td>8.616667</td>\n",
       "      <td>1.04949</td>\n",
       "      <td>48.912777</td>\n",
       "      <td>49.012798</td>\n",
       "      <td>8.210337</td>\n",
       "    </tr>\n",
       "    <tr>\n",
       "      <th>4</th>\n",
       "      <td>Jun 16, 2021, 1:08:01 AM</td>\n",
       "      <td>Evening Run</td>\n",
       "      <td>Run</td>\n",
       "      <td>NaN</td>\n",
       "      <td>19.783333</td>\n",
       "      <td>16.783333</td>\n",
       "      <td>1.06191</td>\n",
       "      <td>0.000000</td>\n",
       "      <td>0.100000</td>\n",
       "      <td>15.804855</td>\n",
       "    </tr>\n",
       "    <tr>\n",
       "      <th>...</th>\n",
       "      <td>...</td>\n",
       "      <td>...</td>\n",
       "      <td>...</td>\n",
       "      <td>...</td>\n",
       "      <td>...</td>\n",
       "      <td>...</td>\n",
       "      <td>...</td>\n",
       "      <td>...</td>\n",
       "      <td>...</td>\n",
       "      <td>...</td>\n",
       "    </tr>\n",
       "    <tr>\n",
       "      <th>366</th>\n",
       "      <td>Mar 9, 2024, 4:24:34 PM</td>\n",
       "      <td>Afternoon Run</td>\n",
       "      <td>Run</td>\n",
       "      <td>Five guys</td>\n",
       "      <td>13134.616667</td>\n",
       "      <td>5.950000</td>\n",
       "      <td>0.60237</td>\n",
       "      <td>0.000000</td>\n",
       "      <td>0.000000</td>\n",
       "      <td>9.877650</td>\n",
       "    </tr>\n",
       "    <tr>\n",
       "      <th>367</th>\n",
       "      <td>Jul 3, 2024, 12:34:40 PM</td>\n",
       "      <td>Morning Run</td>\n",
       "      <td>Run</td>\n",
       "      <td>NaN</td>\n",
       "      <td>31.483333</td>\n",
       "      <td>25.666667</td>\n",
       "      <td>3.01806</td>\n",
       "      <td>13.916079</td>\n",
       "      <td>23.094755</td>\n",
       "      <td>8.504359</td>\n",
       "    </tr>\n",
       "    <tr>\n",
       "      <th>368</th>\n",
       "      <td>Nov 13, 2024, 11:00:00 PM</td>\n",
       "      <td>Evening Run</td>\n",
       "      <td>Run</td>\n",
       "      <td>treadmill run</td>\n",
       "      <td>34.266667</td>\n",
       "      <td>34.266667</td>\n",
       "      <td>3.99303</td>\n",
       "      <td>0.000000</td>\n",
       "      <td>NaN</td>\n",
       "      <td>8.581620</td>\n",
       "    </tr>\n",
       "    <tr>\n",
       "      <th>369</th>\n",
       "      <td>Nov 15, 2024, 1:01:26 PM</td>\n",
       "      <td>Morning Run</td>\n",
       "      <td>Run</td>\n",
       "      <td>paused watch for 0.5</td>\n",
       "      <td>86.350000</td>\n",
       "      <td>29.383333</td>\n",
       "      <td>3.57075</td>\n",
       "      <td>44.248997</td>\n",
       "      <td>57.565666</td>\n",
       "      <td>8.228897</td>\n",
       "    </tr>\n",
       "    <tr>\n",
       "      <th>370</th>\n",
       "      <td>Dec 28, 2024, 1:59:43 PM</td>\n",
       "      <td>Morning Run</td>\n",
       "      <td>Run</td>\n",
       "      <td>With Channing tan 😎</td>\n",
       "      <td>42.000000</td>\n",
       "      <td>35.283333</td>\n",
       "      <td>4.00545</td>\n",
       "      <td>56.541859</td>\n",
       "      <td>56.935192</td>\n",
       "      <td>8.808831</td>\n",
       "    </tr>\n",
       "  </tbody>\n",
       "</table>\n",
       "<p>371 rows × 10 columns</p>\n",
       "</div>"
      ],
      "text/plain": [
       "                          Date           Name Type           Description  \\\n",
       "0     Jun 8, 2021, 10:57:53 PM    Evening Run  Run                   NaN   \n",
       "1    Jun 10, 2021, 11:27:28 PM    Evening Run  Run                   NaN   \n",
       "2    Jun 11, 2021, 10:03:23 PM    Evening Run  Run                   NaN   \n",
       "3    Jun 12, 2021, 12:33:07 PM    Morning Run  Run                   NaN   \n",
       "4     Jun 16, 2021, 1:08:01 AM    Evening Run  Run                   NaN   \n",
       "..                         ...            ...  ...                   ...   \n",
       "366    Mar 9, 2024, 4:24:34 PM  Afternoon Run  Run             Five guys   \n",
       "367   Jul 3, 2024, 12:34:40 PM    Morning Run  Run                   NaN   \n",
       "368  Nov 13, 2024, 11:00:00 PM    Evening Run  Run         treadmill run   \n",
       "369   Nov 15, 2024, 1:01:26 PM    Morning Run  Run  paused watch for 0.5   \n",
       "370   Dec 28, 2024, 1:59:43 PM    Morning Run  Run   With Channing tan 😎   \n",
       "\n",
       "     Elapsed Time  Moving Time  Distance  Elevation Gain  Elevation Loss  \\\n",
       "0       49.983333    30.083333   3.32235      138.346207      138.345993   \n",
       "1       32.650000    31.950000   3.03048      115.467758      128.367996   \n",
       "2       18.133333    17.883333   1.99962       81.699196       81.599197   \n",
       "3        8.616667     8.616667   1.04949       48.912777       49.012798   \n",
       "4       19.783333    16.783333   1.06191        0.000000        0.100000   \n",
       "..            ...          ...       ...             ...             ...   \n",
       "366  13134.616667     5.950000   0.60237        0.000000        0.000000   \n",
       "367     31.483333    25.666667   3.01806       13.916079       23.094755   \n",
       "368     34.266667    34.266667   3.99303        0.000000             NaN   \n",
       "369     86.350000    29.383333   3.57075       44.248997       57.565666   \n",
       "370     42.000000    35.283333   4.00545       56.541859       56.935192   \n",
       "\n",
       "          Pace  \n",
       "0     9.054836  \n",
       "1    10.542884  \n",
       "2     8.943366  \n",
       "3     8.210337  \n",
       "4    15.804855  \n",
       "..         ...  \n",
       "366   9.877650  \n",
       "367   8.504359  \n",
       "368   8.581620  \n",
       "369   8.228897  \n",
       "370   8.808831  \n",
       "\n",
       "[371 rows x 10 columns]"
      ]
     },
     "execution_count": 6,
     "metadata": {},
     "output_type": "execute_result"
    }
   ],
   "source": [
    "# fix units in each column and add pace \n",
    "df_runs['Distance'] = df_runs['Distance'] * 0.621\n",
    "df_runs['Elapsed Time'] = df_runs['Elapsed Time'] / 60\n",
    "df_runs['Moving Time'] = df_runs['Moving Time'] / 60\n",
    "df_runs['Pace'] = df_runs['Moving Time'] / df_runs['Distance']\n",
    "df_runs\n",
    "\n",
    "# remove outliers: where pace is > 16?"
   ]
  },
  {
   "cell_type": "code",
   "execution_count": 7,
   "metadata": {},
   "outputs": [
    {
     "data": {
      "text/html": [
       "<div>\n",
       "<style scoped>\n",
       "    .dataframe tbody tr th:only-of-type {\n",
       "        vertical-align: middle;\n",
       "    }\n",
       "\n",
       "    .dataframe tbody tr th {\n",
       "        vertical-align: top;\n",
       "    }\n",
       "\n",
       "    .dataframe thead th {\n",
       "        text-align: right;\n",
       "    }\n",
       "</style>\n",
       "<table border=\"1\" class=\"dataframe\">\n",
       "  <thead>\n",
       "    <tr style=\"text-align: right;\">\n",
       "      <th></th>\n",
       "      <th>Date</th>\n",
       "      <th>Year</th>\n",
       "      <th>Month</th>\n",
       "      <th>Name</th>\n",
       "      <th>Type</th>\n",
       "      <th>Description</th>\n",
       "      <th>Elapsed Time</th>\n",
       "      <th>Moving Time</th>\n",
       "      <th>Distance</th>\n",
       "      <th>Elevation Gain</th>\n",
       "      <th>Elevation Loss</th>\n",
       "      <th>Pace</th>\n",
       "    </tr>\n",
       "  </thead>\n",
       "  <tbody>\n",
       "    <tr>\n",
       "      <th>0</th>\n",
       "      <td>Jun 8, 2021, 10:57:53 PM</td>\n",
       "      <td>2021</td>\n",
       "      <td>Jun</td>\n",
       "      <td>Evening Run</td>\n",
       "      <td>Run</td>\n",
       "      <td>NaN</td>\n",
       "      <td>49.983333</td>\n",
       "      <td>30.083333</td>\n",
       "      <td>3.32235</td>\n",
       "      <td>138.346207</td>\n",
       "      <td>138.345993</td>\n",
       "      <td>9.054836</td>\n",
       "    </tr>\n",
       "    <tr>\n",
       "      <th>1</th>\n",
       "      <td>Jun 10, 2021, 11:27:28 PM</td>\n",
       "      <td>2021</td>\n",
       "      <td>Jun</td>\n",
       "      <td>Evening Run</td>\n",
       "      <td>Run</td>\n",
       "      <td>NaN</td>\n",
       "      <td>32.650000</td>\n",
       "      <td>31.950000</td>\n",
       "      <td>3.03048</td>\n",
       "      <td>115.467758</td>\n",
       "      <td>128.367996</td>\n",
       "      <td>10.542884</td>\n",
       "    </tr>\n",
       "    <tr>\n",
       "      <th>2</th>\n",
       "      <td>Jun 11, 2021, 10:03:23 PM</td>\n",
       "      <td>2021</td>\n",
       "      <td>Jun</td>\n",
       "      <td>Evening Run</td>\n",
       "      <td>Run</td>\n",
       "      <td>NaN</td>\n",
       "      <td>18.133333</td>\n",
       "      <td>17.883333</td>\n",
       "      <td>1.99962</td>\n",
       "      <td>81.699196</td>\n",
       "      <td>81.599197</td>\n",
       "      <td>8.943366</td>\n",
       "    </tr>\n",
       "    <tr>\n",
       "      <th>3</th>\n",
       "      <td>Jun 12, 2021, 12:33:07 PM</td>\n",
       "      <td>2021</td>\n",
       "      <td>Jun</td>\n",
       "      <td>Morning Run</td>\n",
       "      <td>Run</td>\n",
       "      <td>NaN</td>\n",
       "      <td>8.616667</td>\n",
       "      <td>8.616667</td>\n",
       "      <td>1.04949</td>\n",
       "      <td>48.912777</td>\n",
       "      <td>49.012798</td>\n",
       "      <td>8.210337</td>\n",
       "    </tr>\n",
       "    <tr>\n",
       "      <th>4</th>\n",
       "      <td>Jun 16, 2021, 1:08:01 AM</td>\n",
       "      <td>2021</td>\n",
       "      <td>Jun</td>\n",
       "      <td>Evening Run</td>\n",
       "      <td>Run</td>\n",
       "      <td>NaN</td>\n",
       "      <td>19.783333</td>\n",
       "      <td>16.783333</td>\n",
       "      <td>1.06191</td>\n",
       "      <td>0.000000</td>\n",
       "      <td>0.100000</td>\n",
       "      <td>15.804855</td>\n",
       "    </tr>\n",
       "    <tr>\n",
       "      <th>...</th>\n",
       "      <td>...</td>\n",
       "      <td>...</td>\n",
       "      <td>...</td>\n",
       "      <td>...</td>\n",
       "      <td>...</td>\n",
       "      <td>...</td>\n",
       "      <td>...</td>\n",
       "      <td>...</td>\n",
       "      <td>...</td>\n",
       "      <td>...</td>\n",
       "      <td>...</td>\n",
       "      <td>...</td>\n",
       "    </tr>\n",
       "    <tr>\n",
       "      <th>366</th>\n",
       "      <td>Mar 9, 2024, 4:24:34 PM</td>\n",
       "      <td>2024</td>\n",
       "      <td>Mar</td>\n",
       "      <td>Afternoon Run</td>\n",
       "      <td>Run</td>\n",
       "      <td>Five guys</td>\n",
       "      <td>13134.616667</td>\n",
       "      <td>5.950000</td>\n",
       "      <td>0.60237</td>\n",
       "      <td>0.000000</td>\n",
       "      <td>0.000000</td>\n",
       "      <td>9.877650</td>\n",
       "    </tr>\n",
       "    <tr>\n",
       "      <th>367</th>\n",
       "      <td>Jul 3, 2024, 12:34:40 PM</td>\n",
       "      <td>2024</td>\n",
       "      <td>Jul</td>\n",
       "      <td>Morning Run</td>\n",
       "      <td>Run</td>\n",
       "      <td>NaN</td>\n",
       "      <td>31.483333</td>\n",
       "      <td>25.666667</td>\n",
       "      <td>3.01806</td>\n",
       "      <td>13.916079</td>\n",
       "      <td>23.094755</td>\n",
       "      <td>8.504359</td>\n",
       "    </tr>\n",
       "    <tr>\n",
       "      <th>368</th>\n",
       "      <td>Nov 13, 2024, 11:00:00 PM</td>\n",
       "      <td>2024</td>\n",
       "      <td>Nov</td>\n",
       "      <td>Evening Run</td>\n",
       "      <td>Run</td>\n",
       "      <td>treadmill run</td>\n",
       "      <td>34.266667</td>\n",
       "      <td>34.266667</td>\n",
       "      <td>3.99303</td>\n",
       "      <td>0.000000</td>\n",
       "      <td>NaN</td>\n",
       "      <td>8.581620</td>\n",
       "    </tr>\n",
       "    <tr>\n",
       "      <th>369</th>\n",
       "      <td>Nov 15, 2024, 1:01:26 PM</td>\n",
       "      <td>2024</td>\n",
       "      <td>Nov</td>\n",
       "      <td>Morning Run</td>\n",
       "      <td>Run</td>\n",
       "      <td>paused watch for 0.5</td>\n",
       "      <td>86.350000</td>\n",
       "      <td>29.383333</td>\n",
       "      <td>3.57075</td>\n",
       "      <td>44.248997</td>\n",
       "      <td>57.565666</td>\n",
       "      <td>8.228897</td>\n",
       "    </tr>\n",
       "    <tr>\n",
       "      <th>370</th>\n",
       "      <td>Dec 28, 2024, 1:59:43 PM</td>\n",
       "      <td>2024</td>\n",
       "      <td>Dec</td>\n",
       "      <td>Morning Run</td>\n",
       "      <td>Run</td>\n",
       "      <td>With Channing tan 😎</td>\n",
       "      <td>42.000000</td>\n",
       "      <td>35.283333</td>\n",
       "      <td>4.00545</td>\n",
       "      <td>56.541859</td>\n",
       "      <td>56.935192</td>\n",
       "      <td>8.808831</td>\n",
       "    </tr>\n",
       "  </tbody>\n",
       "</table>\n",
       "<p>371 rows × 12 columns</p>\n",
       "</div>"
      ],
      "text/plain": [
       "                          Date  Year Month           Name Type  \\\n",
       "0     Jun 8, 2021, 10:57:53 PM  2021   Jun    Evening Run  Run   \n",
       "1    Jun 10, 2021, 11:27:28 PM  2021   Jun    Evening Run  Run   \n",
       "2    Jun 11, 2021, 10:03:23 PM  2021   Jun    Evening Run  Run   \n",
       "3    Jun 12, 2021, 12:33:07 PM  2021   Jun    Morning Run  Run   \n",
       "4     Jun 16, 2021, 1:08:01 AM  2021   Jun    Evening Run  Run   \n",
       "..                         ...   ...   ...            ...  ...   \n",
       "366    Mar 9, 2024, 4:24:34 PM  2024   Mar  Afternoon Run  Run   \n",
       "367   Jul 3, 2024, 12:34:40 PM  2024   Jul    Morning Run  Run   \n",
       "368  Nov 13, 2024, 11:00:00 PM  2024   Nov    Evening Run  Run   \n",
       "369   Nov 15, 2024, 1:01:26 PM  2024   Nov    Morning Run  Run   \n",
       "370   Dec 28, 2024, 1:59:43 PM  2024   Dec    Morning Run  Run   \n",
       "\n",
       "              Description  Elapsed Time  Moving Time  Distance  \\\n",
       "0                     NaN     49.983333    30.083333   3.32235   \n",
       "1                     NaN     32.650000    31.950000   3.03048   \n",
       "2                     NaN     18.133333    17.883333   1.99962   \n",
       "3                     NaN      8.616667     8.616667   1.04949   \n",
       "4                     NaN     19.783333    16.783333   1.06191   \n",
       "..                    ...           ...          ...       ...   \n",
       "366             Five guys  13134.616667     5.950000   0.60237   \n",
       "367                   NaN     31.483333    25.666667   3.01806   \n",
       "368         treadmill run     34.266667    34.266667   3.99303   \n",
       "369  paused watch for 0.5     86.350000    29.383333   3.57075   \n",
       "370   With Channing tan 😎     42.000000    35.283333   4.00545   \n",
       "\n",
       "     Elevation Gain  Elevation Loss       Pace  \n",
       "0        138.346207      138.345993   9.054836  \n",
       "1        115.467758      128.367996  10.542884  \n",
       "2         81.699196       81.599197   8.943366  \n",
       "3         48.912777       49.012798   8.210337  \n",
       "4          0.000000        0.100000  15.804855  \n",
       "..              ...             ...        ...  \n",
       "366        0.000000        0.000000   9.877650  \n",
       "367       13.916079       23.094755   8.504359  \n",
       "368        0.000000             NaN   8.581620  \n",
       "369       44.248997       57.565666   8.228897  \n",
       "370       56.541859       56.935192   8.808831  \n",
       "\n",
       "[371 rows x 12 columns]"
      ]
     },
     "execution_count": 7,
     "metadata": {},
     "output_type": "execute_result"
    }
   ],
   "source": [
    "# month, year columns\n",
    "df_dates = df_runs.copy()\n",
    "\n",
    "month_arr = ['Jan', 'Feb', 'Mar', 'Apr', 'May', 'Jun', 'Jul', 'Aug', 'Sep', 'Oct', 'Nov', 'Dec']\n",
    "\n",
    "df_dates['Year'] = df_dates['Date'].apply(\n",
    "    lambda x: 2021 if '2021' in x else\n",
    "              2022 if '2022' in x else\n",
    "              2023 if '2023' in x else\n",
    "              2024 if '2024' in x else None\n",
    ")\n",
    "\n",
    "# alternatively, using numpy:\n",
    "# import numpy as np\n",
    "\n",
    "# conditions = [\n",
    "#     df_dates['Date'].str.contains('2021'),\n",
    "#     df_dates['Date'].str.contains('2022'),\n",
    "#     df_dates['Date'].str.contains('2023'),\n",
    "#     df_dates['Date'].str.contains('2024')\n",
    "# ]\n",
    "# years = [2021, 2022, 2023, 2024]\n",
    "\n",
    "# df['Year'] = np.select(conditions, years, default=None)\n",
    "\n",
    "def find_month(x):\n",
    "    for month in month_arr:\n",
    "        if month in x:\n",
    "            return month\n",
    "    return None\n",
    "\n",
    "df_dates['Month'] = df_dates['Date'].apply(find_month)\n",
    "\n",
    "cols = ['Date', 'Year', 'Month'] + [col for col in df_dates.columns if col not in ['Date', 'Year', 'Month']]\n",
    "df_dates = df_dates[cols]\n",
    "df_dates"
   ]
  },
  {
   "cell_type": "code",
   "execution_count": 15,
   "metadata": {},
   "outputs": [
    {
     "data": {
      "text/html": [
       "<div>\n",
       "<style scoped>\n",
       "    .dataframe tbody tr th:only-of-type {\n",
       "        vertical-align: middle;\n",
       "    }\n",
       "\n",
       "    .dataframe tbody tr th {\n",
       "        vertical-align: top;\n",
       "    }\n",
       "\n",
       "    .dataframe thead th {\n",
       "        text-align: right;\n",
       "    }\n",
       "</style>\n",
       "<table border=\"1\" class=\"dataframe\">\n",
       "  <thead>\n",
       "    <tr style=\"text-align: right;\">\n",
       "      <th></th>\n",
       "      <th>Activities</th>\n",
       "      <th>Distance</th>\n",
       "      <th>Moving Time</th>\n",
       "      <th>Elevation Gain</th>\n",
       "    </tr>\n",
       "  </thead>\n",
       "  <tbody>\n",
       "    <tr>\n",
       "      <th>sum</th>\n",
       "      <td>371</td>\n",
       "      <td>1412.74</td>\n",
       "      <td>204.06</td>\n",
       "      <td>23640.55</td>\n",
       "    </tr>\n",
       "  </tbody>\n",
       "</table>\n",
       "</div>"
      ],
      "text/plain": [
       "     Activities  Distance  Moving Time  Elevation Gain\n",
       "sum         371   1412.74       204.06        23640.55"
      ]
     },
     "execution_count": 15,
     "metadata": {},
     "output_type": "execute_result"
    }
   ],
   "source": [
    "# summarized table:\n",
    "total_summary = df_runs[['Distance','Moving Time','Elevation Gain']].agg(['sum']) # summing columns, TO-DO: ignore N/A values in elevation\n",
    "total_summary['Activities'] = len(df_runs) # adding activities column as the total number of rows\n",
    "total_summary = total_summary[['Activities','Distance','Moving Time','Elevation Gain']] # rearrange columns\n",
    "total_summary['Moving Time'] = total_summary['Moving Time'] / 60\n",
    "total_summary = total_summary.round(2)\n",
    "total_summary"
   ]
  },
  {
   "cell_type": "code",
   "execution_count": 14,
   "metadata": {},
   "outputs": [
    {
     "data": {
      "text/html": [
       "<div>\n",
       "<style scoped>\n",
       "    .dataframe tbody tr th:only-of-type {\n",
       "        vertical-align: middle;\n",
       "    }\n",
       "\n",
       "    .dataframe tbody tr th {\n",
       "        vertical-align: top;\n",
       "    }\n",
       "\n",
       "    .dataframe thead th {\n",
       "        text-align: right;\n",
       "    }\n",
       "</style>\n",
       "<table border=\"1\" class=\"dataframe\">\n",
       "  <thead>\n",
       "    <tr style=\"text-align: right;\">\n",
       "      <th></th>\n",
       "      <th>Year</th>\n",
       "      <th>Activities</th>\n",
       "      <th>Distance</th>\n",
       "      <th>Moving Time</th>\n",
       "      <th>Elevation Gain</th>\n",
       "    </tr>\n",
       "  </thead>\n",
       "  <tbody>\n",
       "    <tr>\n",
       "      <th>0</th>\n",
       "      <td>2021</td>\n",
       "      <td>139</td>\n",
       "      <td>542.65</td>\n",
       "      <td>81.87</td>\n",
       "      <td>11584.62</td>\n",
       "    </tr>\n",
       "    <tr>\n",
       "      <th>1</th>\n",
       "      <td>2022</td>\n",
       "      <td>115</td>\n",
       "      <td>349.38</td>\n",
       "      <td>46.64</td>\n",
       "      <td>5129.34</td>\n",
       "    </tr>\n",
       "    <tr>\n",
       "      <th>2</th>\n",
       "      <td>2023</td>\n",
       "      <td>110</td>\n",
       "      <td>505.10</td>\n",
       "      <td>73.30</td>\n",
       "      <td>6811.88</td>\n",
       "    </tr>\n",
       "    <tr>\n",
       "      <th>3</th>\n",
       "      <td>2024</td>\n",
       "      <td>7</td>\n",
       "      <td>15.61</td>\n",
       "      <td>2.25</td>\n",
       "      <td>114.71</td>\n",
       "    </tr>\n",
       "  </tbody>\n",
       "</table>\n",
       "</div>"
      ],
      "text/plain": [
       "   Year  Activities  Distance  Moving Time  Elevation Gain\n",
       "0  2021         139    542.65        81.87        11584.62\n",
       "1  2022         115    349.38        46.64         5129.34\n",
       "2  2023         110    505.10        73.30         6811.88\n",
       "3  2024           7     15.61         2.25          114.71"
      ]
     },
     "execution_count": 14,
     "metadata": {},
     "output_type": "execute_result"
    }
   ],
   "source": [
    "# yearly summary table:\n",
    "yearly_summary = df_dates.groupby('Year').agg({\n",
    "    'Distance': 'sum',\n",
    "    'Moving Time': 'sum',\n",
    "    'Elevation Gain': 'sum'\n",
    "})\n",
    "\n",
    "yearly_summary['Activities'] = df_dates.groupby('Year').size()\n",
    "yearly_summary = yearly_summary[['Activities', 'Distance', 'Moving Time', 'Elevation Gain']]\n",
    "yearly_summary['Moving Time'] = yearly_summary['Moving Time'] / 60\n",
    "yearly_summary = yearly_summary.reset_index()\n",
    "yearly_summary = yearly_summary.round(2)\n",
    "yearly_summary"
   ]
  },
  {
   "cell_type": "code",
   "execution_count": null,
   "metadata": {},
   "outputs": [
    {
     "data": {
      "image/png": "[encoded data removed]",
      "text/plain": [
       "<Figure size 640x480 with 1 Axes>"
      ]
     },
     "metadata": {},
     "output_type": "display_data"
    },
    {
     "data": {
      "application/vnd.plotly.v1+json": {
       "config": {
        "plotlyServerURL": "https://plot.ly"
       },
       "data": [
        {
         "alignmentgroup": "True",
         "bingroup": "x",
         "hovertemplate": "Distance=%{x}<br>count=%{y}<extra></extra>",
         "legendgroup": "",
         "marker": {
          "color": "rgb(76,114,176)",
          "line": {
           "color": "white",
           "width": 1
          },
          "pattern": {
           "shape": ""
          }
         },
         "name": "",
         "nbinsx": 12,
         "offsetgroup": "",
         "orientation": "v",
         "showlegend": false,
         "type": "histogram",
         "x": [
          3.3223499999999997,
          3.03048,
          1.9996200000000002,
          1.04949,
          1.06191,
          1.9996200000000002,
          0.9998100000000001,
          0.67689,
          1.4531399999999999,
          3.04911,
          2.14245,
          3.11121,
          1.04949,
          4.04892,
          0.1863,
          4.12965,
          3.28509,
          0.71415,
          3.30993,
          1.84437,
          0.27324,
          1.9996200000000002,
          3.03048,
          1.6146,
          1.99341,
          2.13624,
          0.13041,
          0.29186999999999996,
          2.7137700000000002,
          1.3103099999999999,
          3.2292,
          2.00583,
          2.64546,
          1.34757,
          0.0621,
          4.00545,
          2.61441,
          1.38483,
          3.30372,
          1.3041,
          4.01166,
          3.1608899999999998,
          3.14226,
          4.2662700000000005,
          5.16051,
          6.01749,
          2.9062799999999998,
          3.36582,
          4.99905,
          7.122870000000001,
          5.60142,
          5.49585,
          4.44636,
          4.40289,
          4.00545,
          7.998480000000001,
          4.01166,
          1.9996200000000002,
          4.00545,
          6.05475,
          7.77492,
          5.99886,
          10.153350000000001,
          6.00507,
          6.042330000000001,
          1.88163,
          3.01806,
          3.1733100000000003,
          4.03029,
          1.21716,
          12.03498,
          3.21678,
          1.5835499999999998,
          5.0301,
          3.06153,
          5.01147,
          9.9981,
          5.2412399999999995,
          3.0925800000000003,
          5.01768,
          4.21659,
          5.005260000000001,
          7.998480000000001,
          3.90609,
          1.70154,
          5.0301,
          1.9996200000000002,
          6.042330000000001,
          5.05494,
          4.99905,
          6.13548,
          4.49604,
          5.98644,
          5.0301,
          3.09879,
          7.9922699999999995,
          4.99905,
          6.849629999999999,
          5.0797799999999995,
          1.70154,
          0.92529,
          3.52107,
          4.99905,
          8.00469,
          6.63849,
          3.65148,
          3.09879,
          5.104620000000001,
          6.99867,
          5.47722,
          5.55174,
          3.31614,
          0.95013,
          3.09879,
          4.60161,
          7.32159,
          5.0797799999999995,
          1.53387,
          2.28528,
          0.97497,
          5.048730000000001,
          6.99867,
          4.0365,
          3.0925800000000003,
          3.9992400000000004,
          5.005260000000001,
          1.1799,
          5.36544,
          6.05475,
          5.11704,
          5.48343,
          5.005260000000001,
          5.6511,
          3.06774,
          6.07959,
          4.07376,
          6.15411,
          4.99905,
          1.1674799999999999,
          2.5026300000000004,
          1.99341,
          1.9996200000000002,
          2.00583,
          8.07921,
          1.9996200000000002,
          1.80711,
          2.01825,
          1.9996200000000002,
          2.00583,
          2.06793,
          2.05551,
          2.10519,
          2.07414,
          1.99341,
          2.03688,
          1.99341,
          1.99341,
          0.95013,
          2.34738,
          2.22939,
          2.27907,
          2.26665,
          2.24181,
          2.30391,
          2.50884,
          2.6330400000000003,
          2.47779,
          2.4964199999999996,
          2.5460999999999996,
          2.5398899999999998,
          2.51505,
          2.27286,
          2.53368,
          2.7572400000000004,
          2.50884,
          2.7572400000000004,
          2.61441,
          2.8317599999999996,
          2.7945,
          2.7324,
          2.0927700000000002,
          1.9996200000000002,
          2.06793,
          2.08656,
          2.22318,
          2.04309,
          2.24802,
          1.9872,
          2.2977000000000003,
          1.96857,
          1.99341,
          1.99341,
          2.24802,
          1.94373,
          2.4964199999999996,
          3.07395,
          3.1670999999999996,
          3.11121,
          4.07376,
          4.81896,
          3.9930299999999996,
          5.02389,
          3.98061,
          0.33534,
          2.4964199999999996,
          3.09879,
          3.98682,
          5.43375,
          4.0365,
          4.29732,
          4.11102,
          4.04892,
          4.00545,
          4.86243,
          3.63285,
          1.9375200000000001,
          1.65186,
          3.09879,
          3.9930299999999996,
          3.9992400000000004,
          5.309550000000001,
          4.73202,
          4.00545,
          5.69457,
          3.94956,
          3.09879,
          2.4964199999999996,
          4.62024,
          6.57018,
          4.08618,
          5.17293,
          1.46556,
          3.9557700000000002,
          3.4962299999999997,
          3.0925800000000003,
          7.19118,
          4.99905,
          5.33439,
          4.992839999999999,
          3.9992400000000004,
          3.12984,
          1.5462900000000002,
          1.20474,
          3.09879,
          2.1113999999999997,
          2.9808,
          3.0366899999999997,
          2.80071,
          5.0301,
          5.53932,
          2.4219,
          2.0617199999999998,
          2.24181,
          3.0863699999999996,
          2.06793,
          2.08656,
          3.11121,
          2.11761,
          2.02446,
          3.00564,
          3.0429000000000004,
          1.5214500000000002,
          3.0863699999999996,
          1.50903,
          2.04309,
          1.5525,
          1.50903,
          3.05532,
          3.01185,
          3.0429000000000004,
          3.03048,
          4.03029,
          3.01806,
          3.01185,
          3.00564,
          2.20455,
          5.036309999999999,
          5.33439,
          5.005260000000001,
          4.00545,
          5.01768,
          5.01147,
          5.005260000000001,
          6.99867,
          4.00545,
          6.0237,
          5.01147,
          4.00545,
          5.005260000000001,
          5.91813,
          4.45878,
          2.00583,
          5.99886,
          6.01128,
          8.99829,
          5.99886,
          2.78208,
          3.2229900000000002,
          2.00583,
          4.00545,
          3.69495,
          6.16032,
          4.99905,
          5.99886,
          6.00507,
          5.99886,
          4.86864,
          6.99867,
          6.042330000000001,
          6.55776,
          6.00507,
          2.0120400000000003,
          6.00507,
          11.99772,
          8.04195,
          5.99886,
          6.582599999999999,
          6.05475,
          5.99886,
          8.12889,
          5.99886,
          2.0120400000000003,
          2.01825,
          5.005260000000001,
          5.99886,
          3.65148,
          4.00545,
          4.01166,
          5.005260000000001,
          4.17312,
          3.09879,
          4.50225,
          4.222799999999999,
          3.50244,
          5.545529999999999,
          5.005260000000001,
          5.99886,
          5.135669999999999,
          4.00545,
          5.70078,
          4.63887,
          6.01749,
          7.29054,
          6.00507,
          5.99265,
          6.01128,
          1.43451,
          6.042330000000001,
          7.60725,
          6.50187,
          5.99886,
          3.0925800000000003,
          6.4459800000000005,
          2.37222,
          3.00564,
          5.86224,
          2.94354,
          3.0925800000000003,
          3.9992400000000004,
          6.700589999999999,
          4.00545,
          6.62607,
          4.5333,
          3.1670999999999996,
          0.14283,
          0.27945000000000003,
          0.60237,
          3.01806,
          3.9930299999999996,
          3.57075,
          4.00545
         ],
         "xaxis": "x",
         "yaxis": "y"
        }
       ],
       "layout": {
        "barmode": "relative",
        "legend": {
         "tracegroupgap": 0
        },
        "template": {
         "data": {
          "bar": [
           {
            "error_x": {
             "color": "rgb(36,36,36)"
            },
            "error_y": {
             "color": "rgb(36,36,36)"
            },
            "marker": {
             "line": {
              "color": "rgb(234,234,242)",
              "width": 0.5
             },
             "pattern": {
              "fillmode": "overlay",
              "size": 10,
              "solidity": 0.2
             }
            },
            "type": "bar"
           }
          ],
          "barpolar": [
           {
            "marker": {
             "line": {
              "color": "rgb(234,234,242)",
              "width": 0.5
             },
             "pattern": {
              "fillmode": "overlay",
              "size": 10,
              "solidity": 0.2
             }
            },
            "type": "barpolar"
           }
          ],
          "carpet": [
           {
            "aaxis": {
             "endlinecolor": "rgb(36,36,36)",
             "gridcolor": "white",
             "linecolor": "white",
             "minorgridcolor": "white",
             "startlinecolor": "rgb(36,36,36)"
            },
            "baxis": {
             "endlinecolor": "rgb(36,36,36)",
             "gridcolor": "white",
             "linecolor": "white",
             "minorgridcolor": "white",
             "startlinecolor": "rgb(36,36,36)"
            },
            "type": "carpet"
           }
          ],
          "choropleth": [
           {
            "colorbar": {
             "outlinewidth": 0,
             "tickcolor": "rgb(36,36,36)",
             "ticklen": 8,
             "ticks": "outside",
             "tickwidth": 2
            },
            "type": "choropleth"
           }
          ],
          "contour": [
           {
            "colorbar": {
             "outlinewidth": 0,
             "tickcolor": "rgb(36,36,36)",
             "ticklen": 8,
             "ticks": "outside",
             "tickwidth": 2
            },
            "colorscale": [
             [
              0,
              "rgb(2,4,25)"
             ],
             [
              0.06274509803921569,
              "rgb(24,15,41)"
             ],
             [
              0.12549019607843137,
              "rgb(47,23,57)"
             ],
             [
              0.18823529411764706,
              "rgb(71,28,72)"
             ],
             [
              0.25098039215686274,
              "rgb(97,30,82)"
             ],
             [
              0.3137254901960784,
              "rgb(123,30,89)"
             ],
             [
              0.3764705882352941,
              "rgb(150,27,91)"
             ],
             [
              0.4392156862745098,
              "rgb(177,22,88)"
             ],
             [
              0.5019607843137255,
              "rgb(203,26,79)"
             ],
             [
              0.5647058823529412,
              "rgb(223,47,67)"
             ],
             [
              0.6274509803921569,
              "rgb(236,76,61)"
             ],
             [
              0.6901960784313725,
              "rgb(242,107,73)"
             ],
             [
              0.7529411764705882,
              "rgb(244,135,95)"
             ],
             [
              0.8156862745098039,
              "rgb(245,162,122)"
             ],
             [
              0.8784313725490196,
              "rgb(246,188,153)"
             ],
             [
              0.9411764705882353,
              "rgb(247,212,187)"
             ],
             [
              1,
              "rgb(250,234,220)"
             ]
            ],
            "type": "contour"
           }
          ],
          "contourcarpet": [
           {
            "colorbar": {
             "outlinewidth": 0,
             "tickcolor": "rgb(36,36,36)",
             "ticklen": 8,
             "ticks": "outside",
             "tickwidth": 2
            },
            "type": "contourcarpet"
           }
          ],
          "heatmap": [
           {
            "colorbar": {
             "outlinewidth": 0,
             "tickcolor": "rgb(36,36,36)",
             "ticklen": 8,
             "ticks": "outside",
             "tickwidth": 2
            },
            "colorscale": [
             [
              0,
              "rgb(2,4,25)"
             ],
             [
              0.06274509803921569,
              "rgb(24,15,41)"
             ],
             [
              0.12549019607843137,
              "rgb(47,23,57)"
             ],
             [
              0.18823529411764706,
              "rgb(71,28,72)"
             ],
             [
              0.25098039215686274,
              "rgb(97,30,82)"
             ],
             [
              0.3137254901960784,
              "rgb(123,30,89)"
             ],
             [
              0.3764705882352941,
              "rgb(150,27,91)"
             ],
             [
              0.4392156862745098,
              "rgb(177,22,88)"
             ],
             [
              0.5019607843137255,
              "rgb(203,26,79)"
             ],
             [
              0.5647058823529412,
              "rgb(223,47,67)"
             ],
             [
              0.6274509803921569,
              "rgb(236,76,61)"
             ],
             [
              0.6901960784313725,
              "rgb(242,107,73)"
             ],
             [
              0.7529411764705882,
              "rgb(244,135,95)"
             ],
             [
              0.8156862745098039,
              "rgb(245,162,122)"
             ],
             [
              0.8784313725490196,
              "rgb(246,188,153)"
             ],
             [
              0.9411764705882353,
              "rgb(247,212,187)"
             ],
             [
              1,
              "rgb(250,234,220)"
             ]
            ],
            "type": "heatmap"
           }
          ],
          "heatmapgl": [
           {
            "colorbar": {
             "outlinewidth": 0,
             "tickcolor": "rgb(36,36,36)",
             "ticklen": 8,
             "ticks": "outside",
             "tickwidth": 2
            },
            "colorscale": [
             [
              0,
              "rgb(2,4,25)"
             ],
             [
              0.06274509803921569,
              "rgb(24,15,41)"
             ],
             [
              0.12549019607843137,
              "rgb(47,23,57)"
             ],
             [
              0.18823529411764706,
              "rgb(71,28,72)"
             ],
             [
              0.25098039215686274,
              "rgb(97,30,82)"
             ],
             [
              0.3137254901960784,
              "rgb(123,30,89)"
             ],
             [
              0.3764705882352941,
              "rgb(150,27,91)"
             ],
             [
              0.4392156862745098,
              "rgb(177,22,88)"
             ],
             [
              0.5019607843137255,
              "rgb(203,26,79)"
             ],
             [
              0.5647058823529412,
              "rgb(223,47,67)"
             ],
             [
              0.6274509803921569,
              "rgb(236,76,61)"
             ],
             [
              0.6901960784313725,
              "rgb(242,107,73)"
             ],
             [
              0.7529411764705882,
              "rgb(244,135,95)"
             ],
             [
              0.8156862745098039,
              "rgb(245,162,122)"
             ],
             [
              0.8784313725490196,
              "rgb(246,188,153)"
             ],
             [
              0.9411764705882353,
              "rgb(247,212,187)"
             ],
             [
              1,
              "rgb(250,234,220)"
             ]
            ],
            "type": "heatmapgl"
           }
          ],
          "histogram": [
           {
            "marker": {
             "pattern": {
              "fillmode": "overlay",
              "size": 10,
              "solidity": 0.2
             }
            },
            "type": "histogram"
           }
          ],
          "histogram2d": [
           {
            "colorbar": {
             "outlinewidth": 0,
             "tickcolor": "rgb(36,36,36)",
             "ticklen": 8,
             "ticks": "outside",
             "tickwidth": 2
            },
            "colorscale": [
             [
              0,
              "rgb(2,4,25)"
             ],
             [
              0.06274509803921569,
              "rgb(24,15,41)"
             ],
             [
              0.12549019607843137,
              "rgb(47,23,57)"
             ],
             [
              0.18823529411764706,
              "rgb(71,28,72)"
             ],
             [
              0.25098039215686274,
              "rgb(97,30,82)"
             ],
             [
              0.3137254901960784,
              "rgb(123,30,89)"
             ],
             [
              0.3764705882352941,
              "rgb(150,27,91)"
             ],
             [
              0.4392156862745098,
              "rgb(177,22,88)"
             ],
             [
              0.5019607843137255,
              "rgb(203,26,79)"
             ],
             [
              0.5647058823529412,
              "rgb(223,47,67)"
             ],
             [
              0.6274509803921569,
              "rgb(236,76,61)"
             ],
             [
              0.6901960784313725,
              "rgb(242,107,73)"
             ],
             [
              0.7529411764705882,
              "rgb(244,135,95)"
             ],
             [
              0.8156862745098039,
              "rgb(245,162,122)"
             ],
             [
              0.8784313725490196,
              "rgb(246,188,153)"
             ],
             [
              0.9411764705882353,
              "rgb(247,212,187)"
             ],
             [
              1,
              "rgb(250,234,220)"
             ]
            ],
            "type": "histogram2d"
           }
          ],
          "histogram2dcontour": [
           {
            "colorbar": {
             "outlinewidth": 0,
             "tickcolor": "rgb(36,36,36)",
             "ticklen": 8,
             "ticks": "outside",
             "tickwidth": 2
            },
            "colorscale": [
             [
              0,
              "rgb(2,4,25)"
             ],
             [
              0.06274509803921569,
              "rgb(24,15,41)"
             ],
             [
              0.12549019607843137,
              "rgb(47,23,57)"
             ],
             [
              0.18823529411764706,
              "rgb(71,28,72)"
             ],
             [
              0.25098039215686274,
              "rgb(97,30,82)"
             ],
             [
              0.3137254901960784,
              "rgb(123,30,89)"
             ],
             [
              0.3764705882352941,
              "rgb(150,27,91)"
             ],
             [
              0.4392156862745098,
              "rgb(177,22,88)"
             ],
             [
              0.5019607843137255,
              "rgb(203,26,79)"
             ],
             [
              0.5647058823529412,
              "rgb(223,47,67)"
             ],
             [
              0.6274509803921569,
              "rgb(236,76,61)"
             ],
             [
              0.6901960784313725,
              "rgb(242,107,73)"
             ],
             [
              0.7529411764705882,
              "rgb(244,135,95)"
             ],
             [
              0.8156862745098039,
              "rgb(245,162,122)"
             ],
             [
              0.8784313725490196,
              "rgb(246,188,153)"
             ],
             [
              0.9411764705882353,
              "rgb(247,212,187)"
             ],
             [
              1,
              "rgb(250,234,220)"
             ]
            ],
            "type": "histogram2dcontour"
           }
          ],
          "mesh3d": [
           {
            "colorbar": {
             "outlinewidth": 0,
             "tickcolor": "rgb(36,36,36)",
             "ticklen": 8,
             "ticks": "outside",
             "tickwidth": 2
            },
            "type": "mesh3d"
           }
          ],
          "parcoords": [
           {
            "line": {
             "colorbar": {
              "outlinewidth": 0,
              "tickcolor": "rgb(36,36,36)",
              "ticklen": 8,
              "ticks": "outside",
              "tickwidth": 2
             }
            },
            "type": "parcoords"
           }
          ],
          "pie": [
           {
            "automargin": true,
            "type": "pie"
           }
          ],
          "scatter": [
           {
            "fillpattern": {
             "fillmode": "overlay",
             "size": 10,
             "solidity": 0.2
            },
            "type": "scatter"
           }
          ],
          "scatter3d": [
           {
            "line": {
             "colorbar": {
              "outlinewidth": 0,
              "tickcolor": "rgb(36,36,36)",
              "ticklen": 8,
              "ticks": "outside",
              "tickwidth": 2
             }
            },
            "marker": {
             "colorbar": {
              "outlinewidth": 0,
              "tickcolor": "rgb(36,36,36)",
              "ticklen": 8,
              "ticks": "outside",
              "tickwidth": 2
             }
            },
            "type": "scatter3d"
           }
          ],
          "scattercarpet": [
           {
            "marker": {
             "colorbar": {
              "outlinewidth": 0,
              "tickcolor": "rgb(36,36,36)",
              "ticklen": 8,
              "ticks": "outside",
              "tickwidth": 2
             }
            },
            "type": "scattercarpet"
           }
          ],
          "scattergeo": [
           {
            "marker": {
             "colorbar": {
              "outlinewidth": 0,
              "tickcolor": "rgb(36,36,36)",
              "ticklen": 8,
              "ticks": "outside",
              "tickwidth": 2
             }
            },
            "type": "scattergeo"
           }
          ],
          "scattergl": [
           {
            "marker": {
             "colorbar": {
              "outlinewidth": 0,
              "tickcolor": "rgb(36,36,36)",
              "ticklen": 8,
              "ticks": "outside",
              "tickwidth": 2
             }
            },
            "type": "scattergl"
           }
          ],
          "scattermapbox": [
           {
            "marker": {
             "colorbar": {
              "outlinewidth": 0,
              "tickcolor": "rgb(36,36,36)",
              "ticklen": 8,
              "ticks": "outside",
              "tickwidth": 2
             }
            },
            "type": "scattermapbox"
           }
          ],
          "scatterpolar": [
           {
            "marker": {
             "colorbar": {
              "outlinewidth": 0,
              "tickcolor": "rgb(36,36,36)",
              "ticklen": 8,
              "ticks": "outside",
              "tickwidth": 2
             }
            },
            "type": "scatterpolar"
           }
          ],
          "scatterpolargl": [
           {
            "marker": {
             "colorbar": {
              "outlinewidth": 0,
              "tickcolor": "rgb(36,36,36)",
              "ticklen": 8,
              "ticks": "outside",
              "tickwidth": 2
             }
            },
            "type": "scatterpolargl"
           }
          ],
          "scatterternary": [
           {
            "marker": {
             "colorbar": {
              "outlinewidth": 0,
              "tickcolor": "rgb(36,36,36)",
              "ticklen": 8,
              "ticks": "outside",
              "tickwidth": 2
             }
            },
            "type": "scatterternary"
           }
          ],
          "surface": [
           {
            "colorbar": {
             "outlinewidth": 0,
             "tickcolor": "rgb(36,36,36)",
             "ticklen": 8,
             "ticks": "outside",
             "tickwidth": 2
            },
            "colorscale": [
             [
              0,
              "rgb(2,4,25)"
             ],
             [
              0.06274509803921569,
              "rgb(24,15,41)"
             ],
             [
              0.12549019607843137,
              "rgb(47,23,57)"
             ],
             [
              0.18823529411764706,
              "rgb(71,28,72)"
             ],
             [
              0.25098039215686274,
              "rgb(97,30,82)"
             ],
             [
              0.3137254901960784,
              "rgb(123,30,89)"
             ],
             [
              0.3764705882352941,
              "rgb(150,27,91)"
             ],
             [
              0.4392156862745098,
              "rgb(177,22,88)"
             ],
             [
              0.5019607843137255,
              "rgb(203,26,79)"
             ],
             [
              0.5647058823529412,
              "rgb(223,47,67)"
             ],
             [
              0.6274509803921569,
              "rgb(236,76,61)"
             ],
             [
              0.6901960784313725,
              "rgb(242,107,73)"
             ],
             [
              0.7529411764705882,
              "rgb(244,135,95)"
             ],
             [
              0.8156862745098039,
              "rgb(245,162,122)"
             ],
             [
              0.8784313725490196,
              "rgb(246,188,153)"
             ],
             [
              0.9411764705882353,
              "rgb(247,212,187)"
             ],
             [
              1,
              "rgb(250,234,220)"
             ]
            ],
            "type": "surface"
           }
          ],
          "table": [
           {
            "cells": {
             "fill": {
              "color": "rgb(231,231,240)"
             },
             "line": {
              "color": "white"
             }
            },
            "header": {
             "fill": {
              "color": "rgb(183,183,191)"
             },
             "line": {
              "color": "white"
             }
            },
            "type": "table"
           }
          ]
         },
         "layout": {
          "annotationdefaults": {
           "arrowcolor": "rgb(67,103,167)"
          },
          "autotypenumbers": "strict",
          "coloraxis": {
           "colorbar": {
            "outlinewidth": 0,
            "tickcolor": "rgb(36,36,36)",
            "ticklen": 8,
            "ticks": "outside",
            "tickwidth": 2
           }
          },
          "colorscale": {
           "sequential": [
            [
             0,
             "rgb(2,4,25)"
            ],
            [
             0.06274509803921569,
             "rgb(24,15,41)"
            ],
            [
             0.12549019607843137,
             "rgb(47,23,57)"
            ],
            [
             0.18823529411764706,
             "rgb(71,28,72)"
            ],
            [
             0.25098039215686274,
             "rgb(97,30,82)"
            ],
            [
             0.3137254901960784,
             "rgb(123,30,89)"
            ],
            [
             0.3764705882352941,
             "rgb(150,27,91)"
            ],
            [
             0.4392156862745098,
             "rgb(177,22,88)"
            ],
            [
             0.5019607843137255,
             "rgb(203,26,79)"
            ],
            [
             0.5647058823529412,
             "rgb(223,47,67)"
            ],
            [
             0.6274509803921569,
             "rgb(236,76,61)"
            ],
            [
             0.6901960784313725,
             "rgb(242,107,73)"
            ],
            [
             0.7529411764705882,
             "rgb(244,135,95)"
            ],
            [
             0.8156862745098039,
             "rgb(245,162,122)"
            ],
            [
             0.8784313725490196,
             "rgb(246,188,153)"
            ],
            [
             0.9411764705882353,
             "rgb(247,212,187)"
            ],
            [
             1,
             "rgb(250,234,220)"
            ]
           ],
           "sequentialminus": [
            [
             0,
             "rgb(2,4,25)"
            ],
            [
             0.06274509803921569,
             "rgb(24,15,41)"
            ],
            [
             0.12549019607843137,
             "rgb(47,23,57)"
            ],
            [
             0.18823529411764706,
             "rgb(71,28,72)"
            ],
            [
             0.25098039215686274,
             "rgb(97,30,82)"
            ],
            [
             0.3137254901960784,
             "rgb(123,30,89)"
            ],
            [
             0.3764705882352941,
             "rgb(150,27,91)"
            ],
            [
             0.4392156862745098,
             "rgb(177,22,88)"
            ],
            [
             0.5019607843137255,
             "rgb(203,26,79)"
            ],
            [
             0.5647058823529412,
             "rgb(223,47,67)"
            ],
            [
             0.6274509803921569,
             "rgb(236,76,61)"
            ],
            [
             0.6901960784313725,
             "rgb(242,107,73)"
            ],
            [
             0.7529411764705882,
             "rgb(244,135,95)"
            ],
            [
             0.8156862745098039,
             "rgb(245,162,122)"
            ],
            [
             0.8784313725490196,
             "rgb(246,188,153)"
            ],
            [
             0.9411764705882353,
             "rgb(247,212,187)"
            ],
            [
             1,
             "rgb(250,234,220)"
            ]
           ]
          },
          "colorway": [
           "rgb(76,114,176)",
           "rgb(221,132,82)",
           "rgb(85,168,104)",
           "rgb(196,78,82)",
           "rgb(129,114,179)",
           "rgb(147,120,96)",
           "rgb(218,139,195)",
           "rgb(140,140,140)",
           "rgb(204,185,116)",
           "rgb(100,181,205)"
          ],
          "font": {
           "color": "rgb(36,36,36)"
          },
          "geo": {
           "bgcolor": "white",
           "lakecolor": "white",
           "landcolor": "rgb(234,234,242)",
           "showlakes": true,
           "showland": true,
           "subunitcolor": "white"
          },
          "hoverlabel": {
           "align": "left"
          },
          "hovermode": "closest",
          "paper_bgcolor": "white",
          "plot_bgcolor": "rgb(234,234,242)",
          "polar": {
           "angularaxis": {
            "gridcolor": "white",
            "linecolor": "white",
            "showgrid": true,
            "ticks": ""
           },
           "bgcolor": "rgb(234,234,242)",
           "radialaxis": {
            "gridcolor": "white",
            "linecolor": "white",
            "showgrid": true,
            "ticks": ""
           }
          },
          "scene": {
           "xaxis": {
            "backgroundcolor": "rgb(234,234,242)",
            "gridcolor": "white",
            "gridwidth": 2,
            "linecolor": "white",
            "showbackground": true,
            "showgrid": true,
            "ticks": "",
            "zerolinecolor": "white"
           },
           "yaxis": {
            "backgroundcolor": "rgb(234,234,242)",
            "gridcolor": "white",
            "gridwidth": 2,
            "linecolor": "white",
            "showbackground": true,
            "showgrid": true,
            "ticks": "",
            "zerolinecolor": "white"
           },
           "zaxis": {
            "backgroundcolor": "rgb(234,234,242)",
            "gridcolor": "white",
            "gridwidth": 2,
            "linecolor": "white",
            "showbackground": true,
            "showgrid": true,
            "ticks": "",
            "zerolinecolor": "white"
           }
          },
          "shapedefaults": {
           "fillcolor": "rgb(67,103,167)",
           "line": {
            "width": 0
           },
           "opacity": 0.5
          },
          "ternary": {
           "aaxis": {
            "gridcolor": "white",
            "linecolor": "white",
            "showgrid": true,
            "ticks": ""
           },
           "baxis": {
            "gridcolor": "white",
            "linecolor": "white",
            "showgrid": true,
            "ticks": ""
           },
           "bgcolor": "rgb(234,234,242)",
           "caxis": {
            "gridcolor": "white",
            "linecolor": "white",
            "showgrid": true,
            "ticks": ""
           }
          },
          "xaxis": {
           "automargin": true,
           "gridcolor": "white",
           "linecolor": "white",
           "showgrid": true,
           "ticks": "",
           "title": {
            "standoff": 15
           },
           "zerolinecolor": "white"
          },
          "yaxis": {
           "automargin": true,
           "gridcolor": "white",
           "linecolor": "white",
           "showgrid": true,
           "ticks": "",
           "title": {
            "standoff": 15
           },
           "zerolinecolor": "white"
          }
         }
        },
        "title": {
         "text": "Number of Runs at Each Distance"
        },
        "xaxis": {
         "anchor": "y",
         "domain": [
          0,
          1
         ],
         "title": {
          "text": "Distance"
         }
        },
        "yaxis": {
         "anchor": "x",
         "domain": [
          0,
          1
         ],
         "title": {
          "text": "count"
         }
        }
       }
      }
     },
     "metadata": {},
     "output_type": "display_data"
    }
   ],
   "source": [
    "# graph: number of runs at each distance\n",
    "\n",
    "# ---- MATPLOTLIB ----\n",
    "dist_hist, dist_hist_ax = plt.subplots()\n",
    "\n",
    "dist_hist_ax.hist(df_runs['Distance'], \n",
    "        bins = range(int(df_runs['Distance'].min()), int(df_runs['Distance'].max()) + 2), \n",
    "        color = 'lightblue', \n",
    "        edgecolor = 'black')\n",
    "\n",
    "dist_hist_ax.set_xlabel('Distance (miles)')\n",
    "dist_hist_ax.set_ylabel('Number of runs')\n",
    "dist_hist_ax.set_title('Number of runs at each distance')\n",
    "\n",
    "plt.show()\n",
    "plt.close(dist_hist)\n",
    "\n",
    "# ---- PLOTLY ----\n",
    "dist_hist = px.histogram(df_dates, \n",
    "        x = \"Distance\", \n",
    "        title = \"Number of Runs at Each Distance\", \n",
    "        nbins = 12, \n",
    "        template = 'seaborn')\n",
    "dist_hist.update_traces(marker_line_width = 1, marker_line_color = 'white')\n",
    "dist_hist.show()"
   ]
  },
  {
   "cell_type": "code",
   "execution_count": 26,
   "metadata": {},
   "outputs": [
    {
     "data": {
      "application/vnd.plotly.v1+json": {
       "config": {
        "plotlyServerURL": "https://plot.ly"
       },
       "data": [
        {
         "domain": {
          "x": [
           0,
           1
          ],
          "y": [
           0,
           1
          ]
         },
         "hovertemplate": "label=%{label}<br>value=%{value}<extra></extra>",
         "labels": [
          "2-4",
          "4-6",
          "6-8",
          "<2",
          ">8"
         ],
         "legendgroup": "",
         "name": "",
         "showlegend": true,
         "type": "pie",
         "values": [
          142,
          113,
          43,
          64,
          9
         ]
        }
       ],
       "layout": {
        "legend": {
         "tracegroupgap": 0
        },
        "template": {
         "data": {
          "bar": [
           {
            "error_x": {
             "color": "#2a3f5f"
            },
            "error_y": {
             "color": "#2a3f5f"
            },
            "marker": {
             "line": {
              "color": "#E5ECF6",
              "width": 0.5
             },
             "pattern": {
              "fillmode": "overlay",
              "size": 10,
              "solidity": 0.2
             }
            },
            "type": "bar"
           }
          ],
          "barpolar": [
           {
            "marker": {
             "line": {
              "color": "#E5ECF6",
              "width": 0.5
             },
             "pattern": {
              "fillmode": "overlay",
              "size": 10,
              "solidity": 0.2
             }
            },
            "type": "barpolar"
           }
          ],
          "carpet": [
           {
            "aaxis": {
             "endlinecolor": "#2a3f5f",
             "gridcolor": "white",
             "linecolor": "white",
             "minorgridcolor": "white",
             "startlinecolor": "#2a3f5f"
            },
            "baxis": {
             "endlinecolor": "#2a3f5f",
             "gridcolor": "white",
             "linecolor": "white",
             "minorgridcolor": "white",
             "startlinecolor": "#2a3f5f"
            },
            "type": "carpet"
           }
          ],
          "choropleth": [
           {
            "colorbar": {
             "outlinewidth": 0,
             "ticks": ""
            },
            "type": "choropleth"
           }
          ],
          "contour": [
           {
            "colorbar": {
             "outlinewidth": 0,
             "ticks": ""
            },
            "colorscale": [
             [
              0,
              "#0d0887"
             ],
             [
              0.1111111111111111,
              "#46039f"
             ],
             [
              0.2222222222222222,
              "#7201a8"
             ],
             [
              0.3333333333333333,
              "#9c179e"
             ],
             [
              0.4444444444444444,
              "#bd3786"
             ],
             [
              0.5555555555555556,
              "#d8576b"
             ],
             [
              0.6666666666666666,
              "#ed7953"
             ],
             [
              0.7777777777777778,
              "#fb9f3a"
             ],
             [
              0.8888888888888888,
              "#fdca26"
             ],
             [
              1,
              "#f0f921"
             ]
            ],
            "type": "contour"
           }
          ],
          "contourcarpet": [
           {
            "colorbar": {
             "outlinewidth": 0,
             "ticks": ""
            },
            "type": "contourcarpet"
           }
          ],
          "heatmap": [
           {
            "colorbar": {
             "outlinewidth": 0,
             "ticks": ""
            },
            "colorscale": [
             [
              0,
              "#0d0887"
             ],
             [
              0.1111111111111111,
              "#46039f"
             ],
             [
              0.2222222222222222,
              "#7201a8"
             ],
             [
              0.3333333333333333,
              "#9c179e"
             ],
             [
              0.4444444444444444,
              "#bd3786"
             ],
             [
              0.5555555555555556,
              "#d8576b"
             ],
             [
              0.6666666666666666,
              "#ed7953"
             ],
             [
              0.7777777777777778,
              "#fb9f3a"
             ],
             [
              0.8888888888888888,
              "#fdca26"
             ],
             [
              1,
              "#f0f921"
             ]
            ],
            "type": "heatmap"
           }
          ],
          "heatmapgl": [
           {
            "colorbar": {
             "outlinewidth": 0,
             "ticks": ""
            },
            "colorscale": [
             [
              0,
              "#0d0887"
             ],
             [
              0.1111111111111111,
              "#46039f"
             ],
             [
              0.2222222222222222,
              "#7201a8"
             ],
             [
              0.3333333333333333,
              "#9c179e"
             ],
             [
              0.4444444444444444,
              "#bd3786"
             ],
             [
              0.5555555555555556,
              "#d8576b"
             ],
             [
              0.6666666666666666,
              "#ed7953"
             ],
             [
              0.7777777777777778,
              "#fb9f3a"
             ],
             [
              0.8888888888888888,
              "#fdca26"
             ],
             [
              1,
              "#f0f921"
             ]
            ],
            "type": "heatmapgl"
           }
          ],
          "histogram": [
           {
            "marker": {
             "pattern": {
              "fillmode": "overlay",
              "size": 10,
              "solidity": 0.2
             }
            },
            "type": "histogram"
           }
          ],
          "histogram2d": [
           {
            "colorbar": {
             "outlinewidth": 0,
             "ticks": ""
            },
            "colorscale": [
             [
              0,
              "#0d0887"
             ],
             [
              0.1111111111111111,
              "#46039f"
             ],
             [
              0.2222222222222222,
              "#7201a8"
             ],
             [
              0.3333333333333333,
              "#9c179e"
             ],
             [
              0.4444444444444444,
              "#bd3786"
             ],
             [
              0.5555555555555556,
              "#d8576b"
             ],
             [
              0.6666666666666666,
              "#ed7953"
             ],
             [
              0.7777777777777778,
              "#fb9f3a"
             ],
             [
              0.8888888888888888,
              "#fdca26"
             ],
             [
              1,
              "#f0f921"
             ]
            ],
            "type": "histogram2d"
           }
          ],
          "histogram2dcontour": [
           {
            "colorbar": {
             "outlinewidth": 0,
             "ticks": ""
            },
            "colorscale": [
             [
              0,
              "#0d0887"
             ],
             [
              0.1111111111111111,
              "#46039f"
             ],
             [
              0.2222222222222222,
              "#7201a8"
             ],
             [
              0.3333333333333333,
              "#9c179e"
             ],
             [
              0.4444444444444444,
              "#bd3786"
             ],
             [
              0.5555555555555556,
              "#d8576b"
             ],
             [
              0.6666666666666666,
              "#ed7953"
             ],
             [
              0.7777777777777778,
              "#fb9f3a"
             ],
             [
              0.8888888888888888,
              "#fdca26"
             ],
             [
              1,
              "#f0f921"
             ]
            ],
            "type": "histogram2dcontour"
           }
          ],
          "mesh3d": [
           {
            "colorbar": {
             "outlinewidth": 0,
             "ticks": ""
            },
            "type": "mesh3d"
           }
          ],
          "parcoords": [
           {
            "line": {
             "colorbar": {
              "outlinewidth": 0,
              "ticks": ""
             }
            },
            "type": "parcoords"
           }
          ],
          "pie": [
           {
            "automargin": true,
            "type": "pie"
           }
          ],
          "scatter": [
           {
            "fillpattern": {
             "fillmode": "overlay",
             "size": 10,
             "solidity": 0.2
            },
            "type": "scatter"
           }
          ],
          "scatter3d": [
           {
            "line": {
             "colorbar": {
              "outlinewidth": 0,
              "ticks": ""
             }
            },
            "marker": {
             "colorbar": {
              "outlinewidth": 0,
              "ticks": ""
             }
            },
            "type": "scatter3d"
           }
          ],
          "scattercarpet": [
           {
            "marker": {
             "colorbar": {
              "outlinewidth": 0,
              "ticks": ""
             }
            },
            "type": "scattercarpet"
           }
          ],
          "scattergeo": [
           {
            "marker": {
             "colorbar": {
              "outlinewidth": 0,
              "ticks": ""
             }
            },
            "type": "scattergeo"
           }
          ],
          "scattergl": [
           {
            "marker": {
             "colorbar": {
              "outlinewidth": 0,
              "ticks": ""
             }
            },
            "type": "scattergl"
           }
          ],
          "scattermapbox": [
           {
            "marker": {
             "colorbar": {
              "outlinewidth": 0,
              "ticks": ""
             }
            },
            "type": "scattermapbox"
           }
          ],
          "scatterpolar": [
           {
            "marker": {
             "colorbar": {
              "outlinewidth": 0,
              "ticks": ""
             }
            },
            "type": "scatterpolar"
           }
          ],
          "scatterpolargl": [
           {
            "marker": {
             "colorbar": {
              "outlinewidth": 0,
              "ticks": ""
             }
            },
            "type": "scatterpolargl"
           }
          ],
          "scatterternary": [
           {
            "marker": {
             "colorbar": {
              "outlinewidth": 0,
              "ticks": ""
             }
            },
            "type": "scatterternary"
           }
          ],
          "surface": [
           {
            "colorbar": {
             "outlinewidth": 0,
             "ticks": ""
            },
            "colorscale": [
             [
              0,
              "#0d0887"
             ],
             [
              0.1111111111111111,
              "#46039f"
             ],
             [
              0.2222222222222222,
              "#7201a8"
             ],
             [
              0.3333333333333333,
              "#9c179e"
             ],
             [
              0.4444444444444444,
              "#bd3786"
             ],
             [
              0.5555555555555556,
              "#d8576b"
             ],
             [
              0.6666666666666666,
              "#ed7953"
             ],
             [
              0.7777777777777778,
              "#fb9f3a"
             ],
             [
              0.8888888888888888,
              "#fdca26"
             ],
             [
              1,
              "#f0f921"
             ]
            ],
            "type": "surface"
           }
          ],
          "table": [
           {
            "cells": {
             "fill": {
              "color": "#EBF0F8"
             },
             "line": {
              "color": "white"
             }
            },
            "header": {
             "fill": {
              "color": "#C8D4E3"
             },
             "line": {
              "color": "white"
             }
            },
            "type": "table"
           }
          ]
         },
         "layout": {
          "annotationdefaults": {
           "arrowcolor": "#2a3f5f",
           "arrowhead": 0,
           "arrowwidth": 1
          },
          "autotypenumbers": "strict",
          "coloraxis": {
           "colorbar": {
            "outlinewidth": 0,
            "ticks": ""
           }
          },
          "colorscale": {
           "diverging": [
            [
             0,
             "#8e0152"
            ],
            [
             0.1,
             "#c51b7d"
            ],
            [
             0.2,
             "#de77ae"
            ],
            [
             0.3,
             "#f1b6da"
            ],
            [
             0.4,
             "#fde0ef"
            ],
            [
             0.5,
             "#f7f7f7"
            ],
            [
             0.6,
             "#e6f5d0"
            ],
            [
             0.7,
             "#b8e186"
            ],
            [
             0.8,
             "#7fbc41"
            ],
            [
             0.9,
             "#4d9221"
            ],
            [
             1,
             "#276419"
            ]
           ],
           "sequential": [
            [
             0,
             "#0d0887"
            ],
            [
             0.1111111111111111,
             "#46039f"
            ],
            [
             0.2222222222222222,
             "#7201a8"
            ],
            [
             0.3333333333333333,
             "#9c179e"
            ],
            [
             0.4444444444444444,
             "#bd3786"
            ],
            [
             0.5555555555555556,
             "#d8576b"
            ],
            [
             0.6666666666666666,
             "#ed7953"
            ],
            [
             0.7777777777777778,
             "#fb9f3a"
            ],
            [
             0.8888888888888888,
             "#fdca26"
            ],
            [
             1,
             "#f0f921"
            ]
           ],
           "sequentialminus": [
            [
             0,
             "#0d0887"
            ],
            [
             0.1111111111111111,
             "#46039f"
            ],
            [
             0.2222222222222222,
             "#7201a8"
            ],
            [
             0.3333333333333333,
             "#9c179e"
            ],
            [
             0.4444444444444444,
             "#bd3786"
            ],
            [
             0.5555555555555556,
             "#d8576b"
            ],
            [
             0.6666666666666666,
             "#ed7953"
            ],
            [
             0.7777777777777778,
             "#fb9f3a"
            ],
            [
             0.8888888888888888,
             "#fdca26"
            ],
            [
             1,
             "#f0f921"
            ]
           ]
          },
          "colorway": [
           "#636efa",
           "#EF553B",
           "#00cc96",
           "#ab63fa",
           "#FFA15A",
           "#19d3f3",
           "#FF6692",
           "#B6E880",
           "#FF97FF",
           "#FECB52"
          ],
          "font": {
           "color": "#2a3f5f"
          },
          "geo": {
           "bgcolor": "white",
           "lakecolor": "white",
           "landcolor": "#E5ECF6",
           "showlakes": true,
           "showland": true,
           "subunitcolor": "white"
          },
          "hoverlabel": {
           "align": "left"
          },
          "hovermode": "closest",
          "mapbox": {
           "style": "light"
          },
          "paper_bgcolor": "white",
          "plot_bgcolor": "#E5ECF6",
          "polar": {
           "angularaxis": {
            "gridcolor": "white",
            "linecolor": "white",
            "ticks": ""
           },
           "bgcolor": "#E5ECF6",
           "radialaxis": {
            "gridcolor": "white",
            "linecolor": "white",
            "ticks": ""
           }
          },
          "scene": {
           "xaxis": {
            "backgroundcolor": "#E5ECF6",
            "gridcolor": "white",
            "gridwidth": 2,
            "linecolor": "white",
            "showbackground": true,
            "ticks": "",
            "zerolinecolor": "white"
           },
           "yaxis": {
            "backgroundcolor": "#E5ECF6",
            "gridcolor": "white",
            "gridwidth": 2,
            "linecolor": "white",
            "showbackground": true,
            "ticks": "",
            "zerolinecolor": "white"
           },
           "zaxis": {
            "backgroundcolor": "#E5ECF6",
            "gridcolor": "white",
            "gridwidth": 2,
            "linecolor": "white",
            "showbackground": true,
            "ticks": "",
            "zerolinecolor": "white"
           }
          },
          "shapedefaults": {
           "line": {
            "color": "#2a3f5f"
           }
          },
          "ternary": {
           "aaxis": {
            "gridcolor": "white",
            "linecolor": "white",
            "ticks": ""
           },
           "baxis": {
            "gridcolor": "white",
            "linecolor": "white",
            "ticks": ""
           },
           "bgcolor": "#E5ECF6",
           "caxis": {
            "gridcolor": "white",
            "linecolor": "white",
            "ticks": ""
           }
          },
          "title": {
           "x": 0.05
          },
          "xaxis": {
           "automargin": true,
           "gridcolor": "white",
           "linecolor": "white",
           "ticks": "",
           "title": {
            "standoff": 15
           },
           "zerolinecolor": "white",
           "zerolinewidth": 2
          },
          "yaxis": {
           "automargin": true,
           "gridcolor": "white",
           "linecolor": "white",
           "ticks": "",
           "title": {
            "standoff": 15
           },
           "zerolinecolor": "white",
           "zerolinewidth": 2
          }
         }
        },
        "title": {
         "text": "Run Counts by Distance Bracket (miles)"
        }
       }
      }
     },
     "metadata": {},
     "output_type": "display_data"
    }
   ],
   "source": [
    "# graph: pace pie chart\n",
    "\n",
    "# make new column for distance class\n",
    "df_dates['Distance Bracket'] = df_dates['Distance'].apply(\n",
    "    lambda x: '<2' if x < 2 else\n",
    "              '2-4' if x <= 4 else \n",
    "              '4-6' if x <= 6 else\n",
    "              '6-8' if x <= 8 else\n",
    "              '>8'\n",
    ")\n",
    "\n",
    "# ---- MATPLOTLIB ----\n",
    "# dist_pie, dist_pie = plt.subplots()\n",
    "# counting: dist_count = df_runs['Class'].value_counts().sort_index()\n",
    "# dist_pie.pie(dist_count, label = df_runs['Class'])\n",
    "\n",
    "# ---- PLOTLY ----\n",
    "bracket_counts = df_dates['Distance Bracket'].value_counts().sort_index()\n",
    "\n",
    "dist_pie = px.pie(\n",
    "    names = bracket_counts.index,\n",
    "    values = bracket_counts.values,\n",
    "    title = 'Run Counts by Distance Bracket (miles)'\n",
    ")\n",
    "\n",
    "dist_pie.show()"
   ]
  },
  {
   "cell_type": "code",
   "execution_count": 57,
   "metadata": {},
   "outputs": [
    {
     "data": {
      "application/vnd.plotly.v1+json": {
       "config": {
        "plotlyServerURL": "https://plot.ly"
       },
       "data": [
        {
         "alignmentgroup": "True",
         "bingroup": "x",
         "hovertemplate": "Pace=%{x}<br>count=%{y}<extra></extra>",
         "legendgroup": "",
         "marker": {
          "color": "rgb(76,114,176)",
          "line": {
           "color": "white",
           "width": 1
          },
          "pattern": {
           "shape": ""
          }
         },
         "name": "",
         "offsetgroup": "",
         "orientation": "v",
         "showlegend": false,
         "type": "histogram",
         "x": [
          9.054835683577387,
          10.54288429555714,
          8.943365906188841,
          8.21033708436161,
          15.804854774258963,
          9.810197270814788,
          7.984850454919767,
          9.331895384282035,
          9.955452789591277,
          9.855334835410988,
          9.770745330501683,
          9.530054223276474,
          8.369144378062995,
          9.36052083024609,
          5.993916621935946,
          9.633584767070655,
          9.746054648934022,
          10.151928866484633,
          9.723267058014317,
          9.497371279443206,
          10.369394427365442,
          16.36144200731472,
          19.914337002719044,
          19.726247987117553,
          9.798954220824283,
          8.995556054875232,
          9.457352452521535,
          32.14901611448019,
          9.537777089927786,
          10.01035378396461,
          9.45538626698047,
          9.671806683517545,
          9.928960054836084,
          9.733569808371119,
          5.099302200751476,
          9.753377689564637,
          10.129755215644575,
          9.339293150302444,
          9.847485057248596,
          9.636275336758429,
          9.472387989012029,
          9.364451151416215,
          9.048688947869794,
          9.813412340678546,
          9.643749681071572,
          9.710582540782507,
          9.04363424492249,
          9.601424516660627,
          9.331773036877005,
          9.663707653422472,
          14.008352643912913,
          8.836970926547608,
          8.898664675524849,
          8.2862241240034,
          8.559171462216064,
          9.016296429654966,
          9.11094160522078,
          9.001710324961742,
          8.584137446063073,
          9.477407545040395,
          9.594954031681354,
          9.446239229898126,
          9.66676023184466,
          8.35682736976144,
          8.58664345266368,
          8.74242013573338,
          8.708684828443879,
          8.865611406806561,
          9.048149554167733,
          9.585154512690744,
          8.890750130037608,
          10.53330763475691,
          8.419900434677361,
          9.05217258768878,
          8.737461334692131,
          8.52045407834428,
          9.041717926406017,
          8.78608878814937,
          19.01325107192053,
          8.30729208186519,
          9.553533384401454,
          9.050478896201195,
          8.737076711241803,
          7.3304335878930935,
          8.423741630131136,
          8.565104736155014,
          8.968370657091514,
          8.592160088354436,
          8.252653180189412,
          8.471609605825106,
          8.803983823053235,
          8.863355308226796,
          8.126699674597925,
          8.525344095213482,
          6.34656322844293,
          9.008704660878575,
          8.471609605825106,
          7.92743549651587,
          8.195892997990727,
          7.826243677296253,
          8.10556690334922,
          7.649189971609009,
          8.48827943976022,
          8.318040215590276,
          7.938552291259007,
          8.193024928704709,
          6.782217144971638,
          8.286610952431325,
          7.937222357962298,
          8.57186674992058,
          8.327719477737311,
          7.749974367789056,
          6.069344896663264,
          6.604728512311794,
          8.786779699568918,
          7.093176937432078,
          8.333694241351662,
          7.60603354043476,
          11.362575556022309,
          8.769500600018462,
          7.823749735081891,
          7.996757479159136,
          7.907015153391965,
          6.612601775863517,
          8.68498348019457,
          8.331235540211697,
          23.886205045625335,
          11.154723564143854,
          8.23320533465461,
          8.087357795392128,
          9.844811246488664,
          7.978273522920553,
          7.91291371001516,
          7.676660994738798,
          7.83221675584483,
          8.362462851681657,
          7.620923252915531,
          7.998186322067859,
          8.379872317584313,
          8.411151468654975,
          8.528100089795878,
          8.518285140843426,
          8.616549425092522,
          6.636374926096322,
          8.53495497477854,
          8.208317885094617,
          7.770758495396176,
          8.309912216654498,
          8.3506578324185,
          8.035410611900145,
          7.792064580890711,
          8.19403474270731,
          7.922962448693596,
          8.528100089795878,
          8.157901627325453,
          8.243830086802681,
          8.026447143337297,
          7.753324983598735,
          8.07283013402176,
          8.298234046084355,
          8.563434500329812,
          8.066235781145451,
          7.932578288674479,
          7.957486765252693,
          8.210966024138646,
          7.538814450217239,
          7.9573598515881745,
          8.238464147325638,
          8.162811096710003,
          7.821861051725338,
          8.01839592320895,
          7.948869119376761,
          8.012061507372676,
          8.063619174730285,
          8.164463789374107,
          8.414211312762037,
          7.841157278315184,
          7.780791215828085,
          8.093278463648833,
          8.466305567754842,
          7.494054928794531,
          7.934840953114425,
          7.608252374758011,
          7.71604938271605,
          8.463852079753625,
          8.451251127785202,
          7.873595430645635,
          7.456052066559312,
          7.369688529108818,
          7.856802992358244,
          6.396075067346908,
          7.524794196878716,
          8.273947740678464,
          8.000082315959522,
          8.839324579464462,
          7.796700228262225,
          8.15151610832202,
          8.105099516479655,
          7.928793056046501,
          6.4951773826717805,
          7.675875212557883,
          7.799401128076716,
          7.980351420175969,
          8.99584501302161,
          8.51218945529999,
          6.604728512311794,
          7.9344774364865565,
          6.94118549191013,
          8.175399479747306,
          7.3456634988008025,
          7.459624780873522,
          8.051529790660226,
          7.797708954882307,
          7.359146215643893,
          8.120346284597492,
          6.959067949406113,
          7.567227246861114,
          6.282021907475713,
          8.013964332849993,
          8.239065422430262,
          7.684267028279232,
          7.255534282047273,
          7.901733887578175,
          7.744219493306782,
          8.085288825421904,
          6.384212332340473,
          8.51218945529999,
          8.30404192567197,
          6.630970029233091,
          8.014820688271197,
          7.922653763598837,
          8.210740831718478,
          8.367523895474205,
          8.008626434759728,
          6.316193383302399,
          6.630807924893179,
          8.308245233260985,
          7.126713019982915,
          8.238464147325638,
          7.91817111917931,
          7.700074125194898,
          6.887453194420193,
          5.990227490302196,
          6.330427898201125,
          17.91070695589025,
          8.101851851851851,
          7.3654757866844065,
          14.811720361384554,
          7.667176928225417,
          7.464815175869963,
          16.598538337668774,
          13.419216317767045,
          15.255530129672007,
          8.77514145528026,
          8.398092134001956,
          7.963665874293894,
          28.954436805401542,
          10.522869335398555,
          10.513091556925469,
          8.611587992352156,
          8.67045691062254,
          10.253376713004041,
          9.104546765293858,
          10.448212869635903,
          8.55729964579795,
          10.509930220075148,
          9.940160235382994,
          8.738855504497074,
          6.861784838775725,
          8.150119951362187,
          7.8865394260975155,
          7.774461225701707,
          8.184065260465331,
          8.660236510229039,
          8.439688940347702,
          8.837782465053339,
          8.45195523442097,
          8.023410361822064,
          8.59096230765235,
          7.6687180383394296,
          8.692596312771373,
          9.421719907864691,
          8.111466736992682,
          8.015808717942123,
          8.026563806813217,
          8.05706348811085,
          7.858638948917849,
          8.28454563989897,
          8.208031817194977,
          8.944266741915662,
          8.466441492964444,
          8.550076526924016,
          8.326582050589613,
          8.118071359178078,
          8.314542726080917,
          8.423822748544445,
          9.201748332183115,
          9.514974190632508,
          8.53345830238189,
          9.058491139156233,
          8.597319765265205,
          8.073173687946948,
          9.468465675144945,
          8.651643812324341,
          8.262462663493793,
          7.795925670321806,
          11.149588659940626,
          7.8205335204164985,
          8.004638387288788,
          8.371761089152393,
          8.54000591722217,
          8.076380191248681,
          8.748163357518452,
          8.722490606548579,
          8.10126897083419,
          8.165440322550173,
          8.109764125624121,
          7.847832968605915,
          8.559959725681214,
          8.430835370306811,
          8.11543082074483,
          7.50482097771416,
          7.448697303769767,
          7.568704389648755,
          9.326772086696474,
          8.288876473831616,
          8.738094346452959,
          7.785638197986204,
          7.888368103421866,
          8.37103494108325,
          6.411104549410146,
          8.418013215614415,
          8.694862808247294,
          7.708911501695961,
          8.183768428506083,
          9.213640583439554,
          8.168218628206027,
          8.255982179540354,
          8.138910734124757,
          7.940433882147121,
          8.277878017706898,
          7.857650504335418,
          8.593327791905676,
          7.654642937828647,
          8.510425270956922,
          7.954490003238357,
          8.72539519882515,
          8.023946612206439,
          8.445890433468074,
          8.671864145750888,
          8.07931284721875,
          6.122180617262393,
          12.266042815315384,
          8.451998549881546,
          29.339286585663398,
          10.112744161503679,
          17.280779831993677,
          6.046731208246835,
          8.322414592105833,
          8.245542556700231,
          8.4676295214437,
          7.176199466652178,
          8.058882785902838,
          7.751570837674846,
          17.269947956778452,
          8.051529790660224,
          9.877649949366669,
          8.504359312494339,
          8.581620139760199,
          8.228896823729842,
          8.80883130068615
         ],
         "xaxis": "x",
         "yaxis": "y"
        }
       ],
       "layout": {
        "barmode": "relative",
        "legend": {
         "tracegroupgap": 0
        },
        "template": {
         "data": {
          "bar": [
           {
            "error_x": {
             "color": "rgb(36,36,36)"
            },
            "error_y": {
             "color": "rgb(36,36,36)"
            },
            "marker": {
             "line": {
              "color": "rgb(234,234,242)",
              "width": 0.5
             },
             "pattern": {
              "fillmode": "overlay",
              "size": 10,
              "solidity": 0.2
             }
            },
            "type": "bar"
           }
          ],
          "barpolar": [
           {
            "marker": {
             "line": {
              "color": "rgb(234,234,242)",
              "width": 0.5
             },
             "pattern": {
              "fillmode": "overlay",
              "size": 10,
              "solidity": 0.2
             }
            },
            "type": "barpolar"
           }
          ],
          "carpet": [
           {
            "aaxis": {
             "endlinecolor": "rgb(36,36,36)",
             "gridcolor": "white",
             "linecolor": "white",
             "minorgridcolor": "white",
             "startlinecolor": "rgb(36,36,36)"
            },
            "baxis": {
             "endlinecolor": "rgb(36,36,36)",
             "gridcolor": "white",
             "linecolor": "white",
             "minorgridcolor": "white",
             "startlinecolor": "rgb(36,36,36)"
            },
            "type": "carpet"
           }
          ],
          "choropleth": [
           {
            "colorbar": {
             "outlinewidth": 0,
             "tickcolor": "rgb(36,36,36)",
             "ticklen": 8,
             "ticks": "outside",
             "tickwidth": 2
            },
            "type": "choropleth"
           }
          ],
          "contour": [
           {
            "colorbar": {
             "outlinewidth": 0,
             "tickcolor": "rgb(36,36,36)",
             "ticklen": 8,
             "ticks": "outside",
             "tickwidth": 2
            },
            "colorscale": [
             [
              0,
              "rgb(2,4,25)"
             ],
             [
              0.06274509803921569,
              "rgb(24,15,41)"
             ],
             [
              0.12549019607843137,
              "rgb(47,23,57)"
             ],
             [
              0.18823529411764706,
              "rgb(71,28,72)"
             ],
             [
              0.25098039215686274,
              "rgb(97,30,82)"
             ],
             [
              0.3137254901960784,
              "rgb(123,30,89)"
             ],
             [
              0.3764705882352941,
              "rgb(150,27,91)"
             ],
             [
              0.4392156862745098,
              "rgb(177,22,88)"
             ],
             [
              0.5019607843137255,
              "rgb(203,26,79)"
             ],
             [
              0.5647058823529412,
              "rgb(223,47,67)"
             ],
             [
              0.6274509803921569,
              "rgb(236,76,61)"
             ],
             [
              0.6901960784313725,
              "rgb(242,107,73)"
             ],
             [
              0.7529411764705882,
              "rgb(244,135,95)"
             ],
             [
              0.8156862745098039,
              "rgb(245,162,122)"
             ],
             [
              0.8784313725490196,
              "rgb(246,188,153)"
             ],
             [
              0.9411764705882353,
              "rgb(247,212,187)"
             ],
             [
              1,
              "rgb(250,234,220)"
             ]
            ],
            "type": "contour"
           }
          ],
          "contourcarpet": [
           {
            "colorbar": {
             "outlinewidth": 0,
             "tickcolor": "rgb(36,36,36)",
             "ticklen": 8,
             "ticks": "outside",
             "tickwidth": 2
            },
            "type": "contourcarpet"
           }
          ],
          "heatmap": [
           {
            "colorbar": {
             "outlinewidth": 0,
             "tickcolor": "rgb(36,36,36)",
             "ticklen": 8,
             "ticks": "outside",
             "tickwidth": 2
            },
            "colorscale": [
             [
              0,
              "rgb(2,4,25)"
             ],
             [
              0.06274509803921569,
              "rgb(24,15,41)"
             ],
             [
              0.12549019607843137,
              "rgb(47,23,57)"
             ],
             [
              0.18823529411764706,
              "rgb(71,28,72)"
             ],
             [
              0.25098039215686274,
              "rgb(97,30,82)"
             ],
             [
              0.3137254901960784,
              "rgb(123,30,89)"
             ],
             [
              0.3764705882352941,
              "rgb(150,27,91)"
             ],
             [
              0.4392156862745098,
              "rgb(177,22,88)"
             ],
             [
              0.5019607843137255,
              "rgb(203,26,79)"
             ],
             [
              0.5647058823529412,
              "rgb(223,47,67)"
             ],
             [
              0.6274509803921569,
              "rgb(236,76,61)"
             ],
             [
              0.6901960784313725,
              "rgb(242,107,73)"
             ],
             [
              0.7529411764705882,
              "rgb(244,135,95)"
             ],
             [
              0.8156862745098039,
              "rgb(245,162,122)"
             ],
             [
              0.8784313725490196,
              "rgb(246,188,153)"
             ],
             [
              0.9411764705882353,
              "rgb(247,212,187)"
             ],
             [
              1,
              "rgb(250,234,220)"
             ]
            ],
            "type": "heatmap"
           }
          ],
          "heatmapgl": [
           {
            "colorbar": {
             "outlinewidth": 0,
             "tickcolor": "rgb(36,36,36)",
             "ticklen": 8,
             "ticks": "outside",
             "tickwidth": 2
            },
            "colorscale": [
             [
              0,
              "rgb(2,4,25)"
             ],
             [
              0.06274509803921569,
              "rgb(24,15,41)"
             ],
             [
              0.12549019607843137,
              "rgb(47,23,57)"
             ],
             [
              0.18823529411764706,
              "rgb(71,28,72)"
             ],
             [
              0.25098039215686274,
              "rgb(97,30,82)"
             ],
             [
              0.3137254901960784,
              "rgb(123,30,89)"
             ],
             [
              0.3764705882352941,
              "rgb(150,27,91)"
             ],
             [
              0.4392156862745098,
              "rgb(177,22,88)"
             ],
             [
              0.5019607843137255,
              "rgb(203,26,79)"
             ],
             [
              0.5647058823529412,
              "rgb(223,47,67)"
             ],
             [
              0.6274509803921569,
              "rgb(236,76,61)"
             ],
             [
              0.6901960784313725,
              "rgb(242,107,73)"
             ],
             [
              0.7529411764705882,
              "rgb(244,135,95)"
             ],
             [
              0.8156862745098039,
              "rgb(245,162,122)"
             ],
             [
              0.8784313725490196,
              "rgb(246,188,153)"
             ],
             [
              0.9411764705882353,
              "rgb(247,212,187)"
             ],
             [
              1,
              "rgb(250,234,220)"
             ]
            ],
            "type": "heatmapgl"
           }
          ],
          "histogram": [
           {
            "marker": {
             "pattern": {
              "fillmode": "overlay",
              "size": 10,
              "solidity": 0.2
             }
            },
            "type": "histogram"
           }
          ],
          "histogram2d": [
           {
            "colorbar": {
             "outlinewidth": 0,
             "tickcolor": "rgb(36,36,36)",
             "ticklen": 8,
             "ticks": "outside",
             "tickwidth": 2
            },
            "colorscale": [
             [
              0,
              "rgb(2,4,25)"
             ],
             [
              0.06274509803921569,
              "rgb(24,15,41)"
             ],
             [
              0.12549019607843137,
              "rgb(47,23,57)"
             ],
             [
              0.18823529411764706,
              "rgb(71,28,72)"
             ],
             [
              0.25098039215686274,
              "rgb(97,30,82)"
             ],
             [
              0.3137254901960784,
              "rgb(123,30,89)"
             ],
             [
              0.3764705882352941,
              "rgb(150,27,91)"
             ],
             [
              0.4392156862745098,
              "rgb(177,22,88)"
             ],
             [
              0.5019607843137255,
              "rgb(203,26,79)"
             ],
             [
              0.5647058823529412,
              "rgb(223,47,67)"
             ],
             [
              0.6274509803921569,
              "rgb(236,76,61)"
             ],
             [
              0.6901960784313725,
              "rgb(242,107,73)"
             ],
             [
              0.7529411764705882,
              "rgb(244,135,95)"
             ],
             [
              0.8156862745098039,
              "rgb(245,162,122)"
             ],
             [
              0.8784313725490196,
              "rgb(246,188,153)"
             ],
             [
              0.9411764705882353,
              "rgb(247,212,187)"
             ],
             [
              1,
              "rgb(250,234,220)"
             ]
            ],
            "type": "histogram2d"
           }
          ],
          "histogram2dcontour": [
           {
            "colorbar": {
             "outlinewidth": 0,
             "tickcolor": "rgb(36,36,36)",
             "ticklen": 8,
             "ticks": "outside",
             "tickwidth": 2
            },
            "colorscale": [
             [
              0,
              "rgb(2,4,25)"
             ],
             [
              0.06274509803921569,
              "rgb(24,15,41)"
             ],
             [
              0.12549019607843137,
              "rgb(47,23,57)"
             ],
             [
              0.18823529411764706,
              "rgb(71,28,72)"
             ],
             [
              0.25098039215686274,
              "rgb(97,30,82)"
             ],
             [
              0.3137254901960784,
              "rgb(123,30,89)"
             ],
             [
              0.3764705882352941,
              "rgb(150,27,91)"
             ],
             [
              0.4392156862745098,
              "rgb(177,22,88)"
             ],
             [
              0.5019607843137255,
              "rgb(203,26,79)"
             ],
             [
              0.5647058823529412,
              "rgb(223,47,67)"
             ],
             [
              0.6274509803921569,
              "rgb(236,76,61)"
             ],
             [
              0.6901960784313725,
              "rgb(242,107,73)"
             ],
             [
              0.7529411764705882,
              "rgb(244,135,95)"
             ],
             [
              0.8156862745098039,
              "rgb(245,162,122)"
             ],
             [
              0.8784313725490196,
              "rgb(246,188,153)"
             ],
             [
              0.9411764705882353,
              "rgb(247,212,187)"
             ],
             [
              1,
              "rgb(250,234,220)"
             ]
            ],
            "type": "histogram2dcontour"
           }
          ],
          "mesh3d": [
           {
            "colorbar": {
             "outlinewidth": 0,
             "tickcolor": "rgb(36,36,36)",
             "ticklen": 8,
             "ticks": "outside",
             "tickwidth": 2
            },
            "type": "mesh3d"
           }
          ],
          "parcoords": [
           {
            "line": {
             "colorbar": {
              "outlinewidth": 0,
              "tickcolor": "rgb(36,36,36)",
              "ticklen": 8,
              "ticks": "outside",
              "tickwidth": 2
             }
            },
            "type": "parcoords"
           }
          ],
          "pie": [
           {
            "automargin": true,
            "type": "pie"
           }
          ],
          "scatter": [
           {
            "fillpattern": {
             "fillmode": "overlay",
             "size": 10,
             "solidity": 0.2
            },
            "type": "scatter"
           }
          ],
          "scatter3d": [
           {
            "line": {
             "colorbar": {
              "outlinewidth": 0,
              "tickcolor": "rgb(36,36,36)",
              "ticklen": 8,
              "ticks": "outside",
              "tickwidth": 2
             }
            },
            "marker": {
             "colorbar": {
              "outlinewidth": 0,
              "tickcolor": "rgb(36,36,36)",
              "ticklen": 8,
              "ticks": "outside",
              "tickwidth": 2
             }
            },
            "type": "scatter3d"
           }
          ],
          "scattercarpet": [
           {
            "marker": {
             "colorbar": {
              "outlinewidth": 0,
              "tickcolor": "rgb(36,36,36)",
              "ticklen": 8,
              "ticks": "outside",
              "tickwidth": 2
             }
            },
            "type": "scattercarpet"
           }
          ],
          "scattergeo": [
           {
            "marker": {
             "colorbar": {
              "outlinewidth": 0,
              "tickcolor": "rgb(36,36,36)",
              "ticklen": 8,
              "ticks": "outside",
              "tickwidth": 2
             }
            },
            "type": "scattergeo"
           }
          ],
          "scattergl": [
           {
            "marker": {
             "colorbar": {
              "outlinewidth": 0,
              "tickcolor": "rgb(36,36,36)",
              "ticklen": 8,
              "ticks": "outside",
              "tickwidth": 2
             }
            },
            "type": "scattergl"
           }
          ],
          "scattermapbox": [
           {
            "marker": {
             "colorbar": {
              "outlinewidth": 0,
              "tickcolor": "rgb(36,36,36)",
              "ticklen": 8,
              "ticks": "outside",
              "tickwidth": 2
             }
            },
            "type": "scattermapbox"
           }
          ],
          "scatterpolar": [
           {
            "marker": {
             "colorbar": {
              "outlinewidth": 0,
              "tickcolor": "rgb(36,36,36)",
              "ticklen": 8,
              "ticks": "outside",
              "tickwidth": 2
             }
            },
            "type": "scatterpolar"
           }
          ],
          "scatterpolargl": [
           {
            "marker": {
             "colorbar": {
              "outlinewidth": 0,
              "tickcolor": "rgb(36,36,36)",
              "ticklen": 8,
              "ticks": "outside",
              "tickwidth": 2
             }
            },
            "type": "scatterpolargl"
           }
          ],
          "scatterternary": [
           {
            "marker": {
             "colorbar": {
              "outlinewidth": 0,
              "tickcolor": "rgb(36,36,36)",
              "ticklen": 8,
              "ticks": "outside",
              "tickwidth": 2
             }
            },
            "type": "scatterternary"
           }
          ],
          "surface": [
           {
            "colorbar": {
             "outlinewidth": 0,
             "tickcolor": "rgb(36,36,36)",
             "ticklen": 8,
             "ticks": "outside",
             "tickwidth": 2
            },
            "colorscale": [
             [
              0,
              "rgb(2,4,25)"
             ],
             [
              0.06274509803921569,
              "rgb(24,15,41)"
             ],
             [
              0.12549019607843137,
              "rgb(47,23,57)"
             ],
             [
              0.18823529411764706,
              "rgb(71,28,72)"
             ],
             [
              0.25098039215686274,
              "rgb(97,30,82)"
             ],
             [
              0.3137254901960784,
              "rgb(123,30,89)"
             ],
             [
              0.3764705882352941,
              "rgb(150,27,91)"
             ],
             [
              0.4392156862745098,
              "rgb(177,22,88)"
             ],
             [
              0.5019607843137255,
              "rgb(203,26,79)"
             ],
             [
              0.5647058823529412,
              "rgb(223,47,67)"
             ],
             [
              0.6274509803921569,
              "rgb(236,76,61)"
             ],
             [
              0.6901960784313725,
              "rgb(242,107,73)"
             ],
             [
              0.7529411764705882,
              "rgb(244,135,95)"
             ],
             [
              0.8156862745098039,
              "rgb(245,162,122)"
             ],
             [
              0.8784313725490196,
              "rgb(246,188,153)"
             ],
             [
              0.9411764705882353,
              "rgb(247,212,187)"
             ],
             [
              1,
              "rgb(250,234,220)"
             ]
            ],
            "type": "surface"
           }
          ],
          "table": [
           {
            "cells": {
             "fill": {
              "color": "rgb(231,231,240)"
             },
             "line": {
              "color": "white"
             }
            },
            "header": {
             "fill": {
              "color": "rgb(183,183,191)"
             },
             "line": {
              "color": "white"
             }
            },
            "type": "table"
           }
          ]
         },
         "layout": {
          "annotationdefaults": {
           "arrowcolor": "rgb(67,103,167)"
          },
          "autotypenumbers": "strict",
          "coloraxis": {
           "colorbar": {
            "outlinewidth": 0,
            "tickcolor": "rgb(36,36,36)",
            "ticklen": 8,
            "ticks": "outside",
            "tickwidth": 2
           }
          },
          "colorscale": {
           "sequential": [
            [
             0,
             "rgb(2,4,25)"
            ],
            [
             0.06274509803921569,
             "rgb(24,15,41)"
            ],
            [
             0.12549019607843137,
             "rgb(47,23,57)"
            ],
            [
             0.18823529411764706,
             "rgb(71,28,72)"
            ],
            [
             0.25098039215686274,
             "rgb(97,30,82)"
            ],
            [
             0.3137254901960784,
             "rgb(123,30,89)"
            ],
            [
             0.3764705882352941,
             "rgb(150,27,91)"
            ],
            [
             0.4392156862745098,
             "rgb(177,22,88)"
            ],
            [
             0.5019607843137255,
             "rgb(203,26,79)"
            ],
            [
             0.5647058823529412,
             "rgb(223,47,67)"
            ],
            [
             0.6274509803921569,
             "rgb(236,76,61)"
            ],
            [
             0.6901960784313725,
             "rgb(242,107,73)"
            ],
            [
             0.7529411764705882,
             "rgb(244,135,95)"
            ],
            [
             0.8156862745098039,
             "rgb(245,162,122)"
            ],
            [
             0.8784313725490196,
             "rgb(246,188,153)"
            ],
            [
             0.9411764705882353,
             "rgb(247,212,187)"
            ],
            [
             1,
             "rgb(250,234,220)"
            ]
           ],
           "sequentialminus": [
            [
             0,
             "rgb(2,4,25)"
            ],
            [
             0.06274509803921569,
             "rgb(24,15,41)"
            ],
            [
             0.12549019607843137,
             "rgb(47,23,57)"
            ],
            [
             0.18823529411764706,
             "rgb(71,28,72)"
            ],
            [
             0.25098039215686274,
             "rgb(97,30,82)"
            ],
            [
             0.3137254901960784,
             "rgb(123,30,89)"
            ],
            [
             0.3764705882352941,
             "rgb(150,27,91)"
            ],
            [
             0.4392156862745098,
             "rgb(177,22,88)"
            ],
            [
             0.5019607843137255,
             "rgb(203,26,79)"
            ],
            [
             0.5647058823529412,
             "rgb(223,47,67)"
            ],
            [
             0.6274509803921569,
             "rgb(236,76,61)"
            ],
            [
             0.6901960784313725,
             "rgb(242,107,73)"
            ],
            [
             0.7529411764705882,
             "rgb(244,135,95)"
            ],
            [
             0.8156862745098039,
             "rgb(245,162,122)"
            ],
            [
             0.8784313725490196,
             "rgb(246,188,153)"
            ],
            [
             0.9411764705882353,
             "rgb(247,212,187)"
            ],
            [
             1,
             "rgb(250,234,220)"
            ]
           ]
          },
          "colorway": [
           "rgb(76,114,176)",
           "rgb(221,132,82)",
           "rgb(85,168,104)",
           "rgb(196,78,82)",
           "rgb(129,114,179)",
           "rgb(147,120,96)",
           "rgb(218,139,195)",
           "rgb(140,140,140)",
           "rgb(204,185,116)",
           "rgb(100,181,205)"
          ],
          "font": {
           "color": "rgb(36,36,36)"
          },
          "geo": {
           "bgcolor": "white",
           "lakecolor": "white",
           "landcolor": "rgb(234,234,242)",
           "showlakes": true,
           "showland": true,
           "subunitcolor": "white"
          },
          "hoverlabel": {
           "align": "left"
          },
          "hovermode": "closest",
          "paper_bgcolor": "white",
          "plot_bgcolor": "rgb(234,234,242)",
          "polar": {
           "angularaxis": {
            "gridcolor": "white",
            "linecolor": "white",
            "showgrid": true,
            "ticks": ""
           },
           "bgcolor": "rgb(234,234,242)",
           "radialaxis": {
            "gridcolor": "white",
            "linecolor": "white",
            "showgrid": true,
            "ticks": ""
           }
          },
          "scene": {
           "xaxis": {
            "backgroundcolor": "rgb(234,234,242)",
            "gridcolor": "white",
            "gridwidth": 2,
            "linecolor": "white",
            "showbackground": true,
            "showgrid": true,
            "ticks": "",
            "zerolinecolor": "white"
           },
           "yaxis": {
            "backgroundcolor": "rgb(234,234,242)",
            "gridcolor": "white",
            "gridwidth": 2,
            "linecolor": "white",
            "showbackground": true,
            "showgrid": true,
            "ticks": "",
            "zerolinecolor": "white"
           },
           "zaxis": {
            "backgroundcolor": "rgb(234,234,242)",
            "gridcolor": "white",
            "gridwidth": 2,
            "linecolor": "white",
            "showbackground": true,
            "showgrid": true,
            "ticks": "",
            "zerolinecolor": "white"
           }
          },
          "shapedefaults": {
           "fillcolor": "rgb(67,103,167)",
           "line": {
            "width": 0
           },
           "opacity": 0.5
          },
          "ternary": {
           "aaxis": {
            "gridcolor": "white",
            "linecolor": "white",
            "showgrid": true,
            "ticks": ""
           },
           "baxis": {
            "gridcolor": "white",
            "linecolor": "white",
            "showgrid": true,
            "ticks": ""
           },
           "bgcolor": "rgb(234,234,242)",
           "caxis": {
            "gridcolor": "white",
            "linecolor": "white",
            "showgrid": true,
            "ticks": ""
           }
          },
          "xaxis": {
           "automargin": true,
           "gridcolor": "white",
           "linecolor": "white",
           "showgrid": true,
           "ticks": "",
           "title": {
            "standoff": 15
           },
           "zerolinecolor": "white"
          },
          "yaxis": {
           "automargin": true,
           "gridcolor": "white",
           "linecolor": "white",
           "showgrid": true,
           "ticks": "",
           "title": {
            "standoff": 15
           },
           "zerolinecolor": "white"
          }
         }
        },
        "title": {
         "text": "Number of Runs at Each Pace"
        },
        "xaxis": {
         "anchor": "y",
         "domain": [
          0,
          1
         ],
         "title": {
          "text": "Pace"
         }
        },
        "yaxis": {
         "anchor": "x",
         "domain": [
          0,
          1
         ],
         "title": {
          "text": "count"
         }
        }
       }
      }
     },
     "metadata": {},
     "output_type": "display_data"
    },
    {
     "data": {
      "image/png": "[encoded data removed]",
      "text/plain": [
       "<Figure size 640x480 with 1 Axes>"
      ]
     },
     "metadata": {},
     "output_type": "display_data"
    }
   ],
   "source": [
    "# graph: pace histogram\n",
    "\n",
    "# ---- MATPLOTLIB ----\n",
    "pace_hist, pace_hist_ax = plt.subplots()\n",
    "\n",
    "pace_hist_ax.hist(df_runs['Pace'],\n",
    "                  bins = 25,\n",
    "                  color = 'lightblue',\n",
    "                  edgecolor = 'black')\n",
    "pace_hist_ax.set_xlabel('Pace (min/mile)')\n",
    "pace_hist_ax.set_ylabel('Number of runs')\n",
    "pace_hist_ax.set_title('Number of runs at each pace')\n",
    "\n",
    "# ---- PLOTLY ----\n",
    "pace_hist = px.histogram(df_dates, x=\"Pace\", title=\"Number of Runs at Each Pace\", template = 'seaborn')\n",
    "pace_hist.update_traces(marker_line_width = 1, marker_line_color = 'white')\n",
    "pace_hist.show()"
   ]
  },
  {
   "cell_type": "code",
   "execution_count": 67,
   "metadata": {},
   "outputs": [
    {
     "data": {
      "application/vnd.plotly.v1+json": {
       "config": {
        "plotlyServerURL": "https://plot.ly"
       },
       "data": [
        {
         "alignmentgroup": "True",
         "bingroup": "x",
         "hovertemplate": "Month=%{x}<br>count=%{y}<extra></extra>",
         "legendgroup": "",
         "marker": {
          "color": "rgb(76,114,176)",
          "line": {
           "color": "white",
           "width": 1
          },
          "pattern": {
           "shape": ""
          }
         },
         "name": "",
         "nbinsx": 12,
         "offsetgroup": "",
         "orientation": "v",
         "showlegend": false,
         "type": "histogram",
         "x": [
          "Jun",
          "Jun",
          "Jun",
          "Jun",
          "Jun",
          "Jun",
          "Jun",
          "Jun",
          "Jun",
          "Jun",
          "Jun",
          "Jun",
          "Jun",
          "Jun",
          "Jun",
          "Jun",
          "Jun",
          "Jun",
          "Jun",
          "Jun",
          "Jun",
          "Jun",
          "Jun",
          "Jun",
          "Jul",
          "Jul",
          "Jul",
          "Jul",
          "Jul",
          "Jul",
          "Jul",
          "Jul",
          "Jul",
          "Jul",
          "Jul",
          "Jul",
          "Jul",
          "Jul",
          "Jul",
          "Jul",
          "Jul",
          "Jul",
          "Jul",
          "Jul",
          "Jul",
          "Jul",
          "Jul",
          "Jul",
          "Jul",
          "Jul",
          "Jul",
          "Jul",
          "Jul",
          "Jul",
          "Jul",
          "Jul",
          "Aug",
          "Aug",
          "Aug",
          "Aug",
          "Aug",
          "Aug",
          "Aug",
          "Aug",
          "Aug",
          "Aug",
          "Aug",
          "Aug",
          "Aug",
          "Aug",
          "Aug",
          "Aug",
          "Aug",
          "Aug",
          "Aug",
          "Aug",
          "Aug",
          "Aug",
          "Aug",
          "Sep",
          "Sep",
          "Sep",
          "Sep",
          "Sep",
          "Sep",
          "Sep",
          "Sep",
          "Sep",
          "Sep",
          "Sep",
          "Sep",
          "Sep",
          "Sep",
          "Sep",
          "Sep",
          "Sep",
          "Sep",
          "Sep",
          "Sep",
          "Sep",
          "Sep",
          "Sep",
          "Sep",
          "Sep",
          "Sep",
          "Sep",
          "Sep",
          "Oct",
          "Oct",
          "Oct",
          "Oct",
          "Oct",
          "Oct",
          "Oct",
          "Oct",
          "Oct",
          "Oct",
          "Oct",
          "Oct",
          "Oct",
          "Oct",
          "Oct",
          "Oct",
          "Oct",
          "Oct",
          "Oct",
          "Oct",
          "Oct",
          "Oct",
          "Nov",
          "Nov",
          "Nov",
          "Nov",
          "Nov",
          "Nov",
          "Nov",
          "Nov",
          "Nov",
          "Nov",
          "Apr",
          "Jun",
          "Jun",
          "Jun",
          "Jun",
          "Jun",
          "Jun",
          "Jun",
          "Jun",
          "Jul",
          "Jul",
          "Jul",
          "Jul",
          "Jul",
          "Jul",
          "Jul",
          "Jul",
          "Jul",
          "Jul",
          "Jul",
          "Jul",
          "Jul",
          "Jul",
          "Jul",
          "Jul",
          "Jul",
          "Jul",
          "Jul",
          "Jul",
          "Aug",
          "Aug",
          "Aug",
          "Aug",
          "Aug",
          "Aug",
          "Aug",
          "Aug",
          "Aug",
          "Aug",
          "Aug",
          "Aug",
          "Aug",
          "Aug",
          "Aug",
          "Aug",
          "Aug",
          "Aug",
          "Aug",
          "Aug",
          "Aug",
          "Aug",
          "Aug",
          "Aug",
          "Aug",
          "Aug",
          "Aug",
          "Aug",
          "Sep",
          "Sep",
          "Sep",
          "Sep",
          "Sep",
          "Sep",
          "Sep",
          "Sep",
          "Sep",
          "Sep",
          "Sep",
          "Sep",
          "Sep",
          "Sep",
          "Sep",
          "Sep",
          "Sep",
          "Sep",
          "Sep",
          "Sep",
          "Sep",
          "Sep",
          "Sep",
          "Sep",
          "Sep",
          "Sep",
          "Sep",
          "Sep",
          "Sep",
          "Oct",
          "Oct",
          "Oct",
          "Oct",
          "Oct",
          "Oct",
          "Oct",
          "Oct",
          "Oct",
          "Oct",
          "Oct",
          "Oct",
          "Oct",
          "Oct",
          "Oct",
          "Oct",
          "Oct",
          "Oct",
          "Oct",
          "Oct",
          "Oct",
          "Oct",
          "Oct",
          "Oct",
          "Nov",
          "Nov",
          "Nov",
          "Dec",
          "Dec",
          "Mar",
          "Mar",
          "Mar",
          "Mar",
          "Apr",
          "Apr",
          "Apr",
          "Apr",
          "Apr",
          "Apr",
          "Apr",
          "May",
          "May",
          "May",
          "Jun",
          "Jun",
          "Jun",
          "Jun",
          "Jun",
          "Jun",
          "Jun",
          "Jun",
          "Jun",
          "Jun",
          "Jun",
          "Jun",
          "Jun",
          "Jun",
          "Jun",
          "Jul",
          "Jul",
          "Jul",
          "Jul",
          "Jul",
          "Jul",
          "Jul",
          "Jul",
          "Jul",
          "Jul",
          "Jul",
          "Jul",
          "Jul",
          "Jul",
          "Jul",
          "Jul",
          "Jul",
          "Jul",
          "Jul",
          "Jul",
          "Jul",
          "Jul",
          "Jul",
          "Jul",
          "Jul",
          "Aug",
          "Aug",
          "Aug",
          "Aug",
          "Aug",
          "Aug",
          "Aug",
          "Aug",
          "Aug",
          "Aug",
          "Aug",
          "Aug",
          "Aug",
          "Aug",
          "Aug",
          "Aug",
          "Aug",
          "Aug",
          "Aug",
          "Aug",
          "Aug",
          "Sep",
          "Sep",
          "Sep",
          "Sep",
          "Sep",
          "Sep",
          "Sep",
          "Sep",
          "Sep",
          "Sep",
          "Sep",
          "Sep",
          "Sep",
          "Sep",
          "Sep",
          "Sep",
          "Sep",
          "Sep",
          "Sep",
          "Sep",
          "Sep",
          "Sep",
          "Sep",
          "Oct",
          "Sep",
          "Oct",
          "Oct",
          "Oct",
          "Oct",
          "Oct",
          "Oct",
          "Oct",
          "Oct",
          "Oct",
          "Oct",
          "Mar",
          "Mar",
          "Mar",
          "Jul",
          "Nov",
          "Nov",
          "Dec"
         ],
         "xaxis": "x",
         "yaxis": "y"
        }
       ],
       "layout": {
        "barmode": "relative",
        "legend": {
         "tracegroupgap": 0
        },
        "template": {
         "data": {
          "bar": [
           {
            "error_x": {
             "color": "rgb(36,36,36)"
            },
            "error_y": {
             "color": "rgb(36,36,36)"
            },
            "marker": {
             "line": {
              "color": "rgb(234,234,242)",
              "width": 0.5
             },
             "pattern": {
              "fillmode": "overlay",
              "size": 10,
              "solidity": 0.2
             }
            },
            "type": "bar"
           }
          ],
          "barpolar": [
           {
            "marker": {
             "line": {
              "color": "rgb(234,234,242)",
              "width": 0.5
             },
             "pattern": {
              "fillmode": "overlay",
              "size": 10,
              "solidity": 0.2
             }
            },
            "type": "barpolar"
           }
          ],
          "carpet": [
           {
            "aaxis": {
             "endlinecolor": "rgb(36,36,36)",
             "gridcolor": "white",
             "linecolor": "white",
             "minorgridcolor": "white",
             "startlinecolor": "rgb(36,36,36)"
            },
            "baxis": {
             "endlinecolor": "rgb(36,36,36)",
             "gridcolor": "white",
             "linecolor": "white",
             "minorgridcolor": "white",
             "startlinecolor": "rgb(36,36,36)"
            },
            "type": "carpet"
           }
          ],
          "choropleth": [
           {
            "colorbar": {
             "outlinewidth": 0,
             "tickcolor": "rgb(36,36,36)",
             "ticklen": 8,
             "ticks": "outside",
             "tickwidth": 2
            },
            "type": "choropleth"
           }
          ],
          "contour": [
           {
            "colorbar": {
             "outlinewidth": 0,
             "tickcolor": "rgb(36,36,36)",
             "ticklen": 8,
             "ticks": "outside",
             "tickwidth": 2
            },
            "colorscale": [
             [
              0,
              "rgb(2,4,25)"
             ],
             [
              0.06274509803921569,
              "rgb(24,15,41)"
             ],
             [
              0.12549019607843137,
              "rgb(47,23,57)"
             ],
             [
              0.18823529411764706,
              "rgb(71,28,72)"
             ],
             [
              0.25098039215686274,
              "rgb(97,30,82)"
             ],
             [
              0.3137254901960784,
              "rgb(123,30,89)"
             ],
             [
              0.3764705882352941,
              "rgb(150,27,91)"
             ],
             [
              0.4392156862745098,
              "rgb(177,22,88)"
             ],
             [
              0.5019607843137255,
              "rgb(203,26,79)"
             ],
             [
              0.5647058823529412,
              "rgb(223,47,67)"
             ],
             [
              0.6274509803921569,
              "rgb(236,76,61)"
             ],
             [
              0.6901960784313725,
              "rgb(242,107,73)"
             ],
             [
              0.7529411764705882,
              "rgb(244,135,95)"
             ],
             [
              0.8156862745098039,
              "rgb(245,162,122)"
             ],
             [
              0.8784313725490196,
              "rgb(246,188,153)"
             ],
             [
              0.9411764705882353,
              "rgb(247,212,187)"
             ],
             [
              1,
              "rgb(250,234,220)"
             ]
            ],
            "type": "contour"
           }
          ],
          "contourcarpet": [
           {
            "colorbar": {
             "outlinewidth": 0,
             "tickcolor": "rgb(36,36,36)",
             "ticklen": 8,
             "ticks": "outside",
             "tickwidth": 2
            },
            "type": "contourcarpet"
           }
          ],
          "heatmap": [
           {
            "colorbar": {
             "outlinewidth": 0,
             "tickcolor": "rgb(36,36,36)",
             "ticklen": 8,
             "ticks": "outside",
             "tickwidth": 2
            },
            "colorscale": [
             [
              0,
              "rgb(2,4,25)"
             ],
             [
              0.06274509803921569,
              "rgb(24,15,41)"
             ],
             [
              0.12549019607843137,
              "rgb(47,23,57)"
             ],
             [
              0.18823529411764706,
              "rgb(71,28,72)"
             ],
             [
              0.25098039215686274,
              "rgb(97,30,82)"
             ],
             [
              0.3137254901960784,
              "rgb(123,30,89)"
             ],
             [
              0.3764705882352941,
              "rgb(150,27,91)"
             ],
             [
              0.4392156862745098,
              "rgb(177,22,88)"
             ],
             [
              0.5019607843137255,
              "rgb(203,26,79)"
             ],
             [
              0.5647058823529412,
              "rgb(223,47,67)"
             ],
             [
              0.6274509803921569,
              "rgb(236,76,61)"
             ],
             [
              0.6901960784313725,
              "rgb(242,107,73)"
             ],
             [
              0.7529411764705882,
              "rgb(244,135,95)"
             ],
             [
              0.8156862745098039,
              "rgb(245,162,122)"
             ],
             [
              0.8784313725490196,
              "rgb(246,188,153)"
             ],
             [
              0.9411764705882353,
              "rgb(247,212,187)"
             ],
             [
              1,
              "rgb(250,234,220)"
             ]
            ],
            "type": "heatmap"
           }
          ],
          "heatmapgl": [
           {
            "colorbar": {
             "outlinewidth": 0,
             "tickcolor": "rgb(36,36,36)",
             "ticklen": 8,
             "ticks": "outside",
             "tickwidth": 2
            },
            "colorscale": [
             [
              0,
              "rgb(2,4,25)"
             ],
             [
              0.06274509803921569,
              "rgb(24,15,41)"
             ],
             [
              0.12549019607843137,
              "rgb(47,23,57)"
             ],
             [
              0.18823529411764706,
              "rgb(71,28,72)"
             ],
             [
              0.25098039215686274,
              "rgb(97,30,82)"
             ],
             [
              0.3137254901960784,
              "rgb(123,30,89)"
             ],
             [
              0.3764705882352941,
              "rgb(150,27,91)"
             ],
             [
              0.4392156862745098,
              "rgb(177,22,88)"
             ],
             [
              0.5019607843137255,
              "rgb(203,26,79)"
             ],
             [
              0.5647058823529412,
              "rgb(223,47,67)"
             ],
             [
              0.6274509803921569,
              "rgb(236,76,61)"
             ],
             [
              0.6901960784313725,
              "rgb(242,107,73)"
             ],
             [
              0.7529411764705882,
              "rgb(244,135,95)"
             ],
             [
              0.8156862745098039,
              "rgb(245,162,122)"
             ],
             [
              0.8784313725490196,
              "rgb(246,188,153)"
             ],
             [
              0.9411764705882353,
              "rgb(247,212,187)"
             ],
             [
              1,
              "rgb(250,234,220)"
             ]
            ],
            "type": "heatmapgl"
           }
          ],
          "histogram": [
           {
            "marker": {
             "pattern": {
              "fillmode": "overlay",
              "size": 10,
              "solidity": 0.2
             }
            },
            "type": "histogram"
           }
          ],
          "histogram2d": [
           {
            "colorbar": {
             "outlinewidth": 0,
             "tickcolor": "rgb(36,36,36)",
             "ticklen": 8,
             "ticks": "outside",
             "tickwidth": 2
            },
            "colorscale": [
             [
              0,
              "rgb(2,4,25)"
             ],
             [
              0.06274509803921569,
              "rgb(24,15,41)"
             ],
             [
              0.12549019607843137,
              "rgb(47,23,57)"
             ],
             [
              0.18823529411764706,
              "rgb(71,28,72)"
             ],
             [
              0.25098039215686274,
              "rgb(97,30,82)"
             ],
             [
              0.3137254901960784,
              "rgb(123,30,89)"
             ],
             [
              0.3764705882352941,
              "rgb(150,27,91)"
             ],
             [
              0.4392156862745098,
              "rgb(177,22,88)"
             ],
             [
              0.5019607843137255,
              "rgb(203,26,79)"
             ],
             [
              0.5647058823529412,
              "rgb(223,47,67)"
             ],
             [
              0.6274509803921569,
              "rgb(236,76,61)"
             ],
             [
              0.6901960784313725,
              "rgb(242,107,73)"
             ],
             [
              0.7529411764705882,
              "rgb(244,135,95)"
             ],
             [
              0.8156862745098039,
              "rgb(245,162,122)"
             ],
             [
              0.8784313725490196,
              "rgb(246,188,153)"
             ],
             [
              0.9411764705882353,
              "rgb(247,212,187)"
             ],
             [
              1,
              "rgb(250,234,220)"
             ]
            ],
            "type": "histogram2d"
           }
          ],
          "histogram2dcontour": [
           {
            "colorbar": {
             "outlinewidth": 0,
             "tickcolor": "rgb(36,36,36)",
             "ticklen": 8,
             "ticks": "outside",
             "tickwidth": 2
            },
            "colorscale": [
             [
              0,
              "rgb(2,4,25)"
             ],
             [
              0.06274509803921569,
              "rgb(24,15,41)"
             ],
             [
              0.12549019607843137,
              "rgb(47,23,57)"
             ],
             [
              0.18823529411764706,
              "rgb(71,28,72)"
             ],
             [
              0.25098039215686274,
              "rgb(97,30,82)"
             ],
             [
              0.3137254901960784,
              "rgb(123,30,89)"
             ],
             [
              0.3764705882352941,
              "rgb(150,27,91)"
             ],
             [
              0.4392156862745098,
              "rgb(177,22,88)"
             ],
             [
              0.5019607843137255,
              "rgb(203,26,79)"
             ],
             [
              0.5647058823529412,
              "rgb(223,47,67)"
             ],
             [
              0.6274509803921569,
              "rgb(236,76,61)"
             ],
             [
              0.6901960784313725,
              "rgb(242,107,73)"
             ],
             [
              0.7529411764705882,
              "rgb(244,135,95)"
             ],
             [
              0.8156862745098039,
              "rgb(245,162,122)"
             ],
             [
              0.8784313725490196,
              "rgb(246,188,153)"
             ],
             [
              0.9411764705882353,
              "rgb(247,212,187)"
             ],
             [
              1,
              "rgb(250,234,220)"
             ]
            ],
            "type": "histogram2dcontour"
           }
          ],
          "mesh3d": [
           {
            "colorbar": {
             "outlinewidth": 0,
             "tickcolor": "rgb(36,36,36)",
             "ticklen": 8,
             "ticks": "outside",
             "tickwidth": 2
            },
            "type": "mesh3d"
           }
          ],
          "parcoords": [
           {
            "line": {
             "colorbar": {
              "outlinewidth": 0,
              "tickcolor": "rgb(36,36,36)",
              "ticklen": 8,
              "ticks": "outside",
              "tickwidth": 2
             }
            },
            "type": "parcoords"
           }
          ],
          "pie": [
           {
            "automargin": true,
            "type": "pie"
           }
          ],
          "scatter": [
           {
            "fillpattern": {
             "fillmode": "overlay",
             "size": 10,
             "solidity": 0.2
            },
            "type": "scatter"
           }
          ],
          "scatter3d": [
           {
            "line": {
             "colorbar": {
              "outlinewidth": 0,
              "tickcolor": "rgb(36,36,36)",
              "ticklen": 8,
              "ticks": "outside",
              "tickwidth": 2
             }
            },
            "marker": {
             "colorbar": {
              "outlinewidth": 0,
              "tickcolor": "rgb(36,36,36)",
              "ticklen": 8,
              "ticks": "outside",
              "tickwidth": 2
             }
            },
            "type": "scatter3d"
           }
          ],
          "scattercarpet": [
           {
            "marker": {
             "colorbar": {
              "outlinewidth": 0,
              "tickcolor": "rgb(36,36,36)",
              "ticklen": 8,
              "ticks": "outside",
              "tickwidth": 2
             }
            },
            "type": "scattercarpet"
           }
          ],
          "scattergeo": [
           {
            "marker": {
             "colorbar": {
              "outlinewidth": 0,
              "tickcolor": "rgb(36,36,36)",
              "ticklen": 8,
              "ticks": "outside",
              "tickwidth": 2
             }
            },
            "type": "scattergeo"
           }
          ],
          "scattergl": [
           {
            "marker": {
             "colorbar": {
              "outlinewidth": 0,
              "tickcolor": "rgb(36,36,36)",
              "ticklen": 8,
              "ticks": "outside",
              "tickwidth": 2
             }
            },
            "type": "scattergl"
           }
          ],
          "scattermapbox": [
           {
            "marker": {
             "colorbar": {
              "outlinewidth": 0,
              "tickcolor": "rgb(36,36,36)",
              "ticklen": 8,
              "ticks": "outside",
              "tickwidth": 2
             }
            },
            "type": "scattermapbox"
           }
          ],
          "scatterpolar": [
           {
            "marker": {
             "colorbar": {
              "outlinewidth": 0,
              "tickcolor": "rgb(36,36,36)",
              "ticklen": 8,
              "ticks": "outside",
              "tickwidth": 2
             }
            },
            "type": "scatterpolar"
           }
          ],
          "scatterpolargl": [
           {
            "marker": {
             "colorbar": {
              "outlinewidth": 0,
              "tickcolor": "rgb(36,36,36)",
              "ticklen": 8,
              "ticks": "outside",
              "tickwidth": 2
             }
            },
            "type": "scatterpolargl"
           }
          ],
          "scatterternary": [
           {
            "marker": {
             "colorbar": {
              "outlinewidth": 0,
              "tickcolor": "rgb(36,36,36)",
              "ticklen": 8,
              "ticks": "outside",
              "tickwidth": 2
             }
            },
            "type": "scatterternary"
           }
          ],
          "surface": [
           {
            "colorbar": {
             "outlinewidth": 0,
             "tickcolor": "rgb(36,36,36)",
             "ticklen": 8,
             "ticks": "outside",
             "tickwidth": 2
            },
            "colorscale": [
             [
              0,
              "rgb(2,4,25)"
             ],
             [
              0.06274509803921569,
              "rgb(24,15,41)"
             ],
             [
              0.12549019607843137,
              "rgb(47,23,57)"
             ],
             [
              0.18823529411764706,
              "rgb(71,28,72)"
             ],
             [
              0.25098039215686274,
              "rgb(97,30,82)"
             ],
             [
              0.3137254901960784,
              "rgb(123,30,89)"
             ],
             [
              0.3764705882352941,
              "rgb(150,27,91)"
             ],
             [
              0.4392156862745098,
              "rgb(177,22,88)"
             ],
             [
              0.5019607843137255,
              "rgb(203,26,79)"
             ],
             [
              0.5647058823529412,
              "rgb(223,47,67)"
             ],
             [
              0.6274509803921569,
              "rgb(236,76,61)"
             ],
             [
              0.6901960784313725,
              "rgb(242,107,73)"
             ],
             [
              0.7529411764705882,
              "rgb(244,135,95)"
             ],
             [
              0.8156862745098039,
              "rgb(245,162,122)"
             ],
             [
              0.8784313725490196,
              "rgb(246,188,153)"
             ],
             [
              0.9411764705882353,
              "rgb(247,212,187)"
             ],
             [
              1,
              "rgb(250,234,220)"
             ]
            ],
            "type": "surface"
           }
          ],
          "table": [
           {
            "cells": {
             "fill": {
              "color": "rgb(231,231,240)"
             },
             "line": {
              "color": "white"
             }
            },
            "header": {
             "fill": {
              "color": "rgb(183,183,191)"
             },
             "line": {
              "color": "white"
             }
            },
            "type": "table"
           }
          ]
         },
         "layout": {
          "annotationdefaults": {
           "arrowcolor": "rgb(67,103,167)"
          },
          "autotypenumbers": "strict",
          "coloraxis": {
           "colorbar": {
            "outlinewidth": 0,
            "tickcolor": "rgb(36,36,36)",
            "ticklen": 8,
            "ticks": "outside",
            "tickwidth": 2
           }
          },
          "colorscale": {
           "sequential": [
            [
             0,
             "rgb(2,4,25)"
            ],
            [
             0.06274509803921569,
             "rgb(24,15,41)"
            ],
            [
             0.12549019607843137,
             "rgb(47,23,57)"
            ],
            [
             0.18823529411764706,
             "rgb(71,28,72)"
            ],
            [
             0.25098039215686274,
             "rgb(97,30,82)"
            ],
            [
             0.3137254901960784,
             "rgb(123,30,89)"
            ],
            [
             0.3764705882352941,
             "rgb(150,27,91)"
            ],
            [
             0.4392156862745098,
             "rgb(177,22,88)"
            ],
            [
             0.5019607843137255,
             "rgb(203,26,79)"
            ],
            [
             0.5647058823529412,
             "rgb(223,47,67)"
            ],
            [
             0.6274509803921569,
             "rgb(236,76,61)"
            ],
            [
             0.6901960784313725,
             "rgb(242,107,73)"
            ],
            [
             0.7529411764705882,
             "rgb(244,135,95)"
            ],
            [
             0.8156862745098039,
             "rgb(245,162,122)"
            ],
            [
             0.8784313725490196,
             "rgb(246,188,153)"
            ],
            [
             0.9411764705882353,
             "rgb(247,212,187)"
            ],
            [
             1,
             "rgb(250,234,220)"
            ]
           ],
           "sequentialminus": [
            [
             0,
             "rgb(2,4,25)"
            ],
            [
             0.06274509803921569,
             "rgb(24,15,41)"
            ],
            [
             0.12549019607843137,
             "rgb(47,23,57)"
            ],
            [
             0.18823529411764706,
             "rgb(71,28,72)"
            ],
            [
             0.25098039215686274,
             "rgb(97,30,82)"
            ],
            [
             0.3137254901960784,
             "rgb(123,30,89)"
            ],
            [
             0.3764705882352941,
             "rgb(150,27,91)"
            ],
            [
             0.4392156862745098,
             "rgb(177,22,88)"
            ],
            [
             0.5019607843137255,
             "rgb(203,26,79)"
            ],
            [
             0.5647058823529412,
             "rgb(223,47,67)"
            ],
            [
             0.6274509803921569,
             "rgb(236,76,61)"
            ],
            [
             0.6901960784313725,
             "rgb(242,107,73)"
            ],
            [
             0.7529411764705882,
             "rgb(244,135,95)"
            ],
            [
             0.8156862745098039,
             "rgb(245,162,122)"
            ],
            [
             0.8784313725490196,
             "rgb(246,188,153)"
            ],
            [
             0.9411764705882353,
             "rgb(247,212,187)"
            ],
            [
             1,
             "rgb(250,234,220)"
            ]
           ]
          },
          "colorway": [
           "rgb(76,114,176)",
           "rgb(221,132,82)",
           "rgb(85,168,104)",
           "rgb(196,78,82)",
           "rgb(129,114,179)",
           "rgb(147,120,96)",
           "rgb(218,139,195)",
           "rgb(140,140,140)",
           "rgb(204,185,116)",
           "rgb(100,181,205)"
          ],
          "font": {
           "color": "rgb(36,36,36)"
          },
          "geo": {
           "bgcolor": "white",
           "lakecolor": "white",
           "landcolor": "rgb(234,234,242)",
           "showlakes": true,
           "showland": true,
           "subunitcolor": "white"
          },
          "hoverlabel": {
           "align": "left"
          },
          "hovermode": "closest",
          "paper_bgcolor": "white",
          "plot_bgcolor": "rgb(234,234,242)",
          "polar": {
           "angularaxis": {
            "gridcolor": "white",
            "linecolor": "white",
            "showgrid": true,
            "ticks": ""
           },
           "bgcolor": "rgb(234,234,242)",
           "radialaxis": {
            "gridcolor": "white",
            "linecolor": "white",
            "showgrid": true,
            "ticks": ""
           }
          },
          "scene": {
           "xaxis": {
            "backgroundcolor": "rgb(234,234,242)",
            "gridcolor": "white",
            "gridwidth": 2,
            "linecolor": "white",
            "showbackground": true,
            "showgrid": true,
            "ticks": "",
            "zerolinecolor": "white"
           },
           "yaxis": {
            "backgroundcolor": "rgb(234,234,242)",
            "gridcolor": "white",
            "gridwidth": 2,
            "linecolor": "white",
            "showbackground": true,
            "showgrid": true,
            "ticks": "",
            "zerolinecolor": "white"
           },
           "zaxis": {
            "backgroundcolor": "rgb(234,234,242)",
            "gridcolor": "white",
            "gridwidth": 2,
            "linecolor": "white",
            "showbackground": true,
            "showgrid": true,
            "ticks": "",
            "zerolinecolor": "white"
           }
          },
          "shapedefaults": {
           "fillcolor": "rgb(67,103,167)",
           "line": {
            "width": 0
           },
           "opacity": 0.5
          },
          "ternary": {
           "aaxis": {
            "gridcolor": "white",
            "linecolor": "white",
            "showgrid": true,
            "ticks": ""
           },
           "baxis": {
            "gridcolor": "white",
            "linecolor": "white",
            "showgrid": true,
            "ticks": ""
           },
           "bgcolor": "rgb(234,234,242)",
           "caxis": {
            "gridcolor": "white",
            "linecolor": "white",
            "showgrid": true,
            "ticks": ""
           }
          },
          "xaxis": {
           "automargin": true,
           "gridcolor": "white",
           "linecolor": "white",
           "showgrid": true,
           "ticks": "",
           "title": {
            "standoff": 15
           },
           "zerolinecolor": "white"
          },
          "yaxis": {
           "automargin": true,
           "gridcolor": "white",
           "linecolor": "white",
           "showgrid": true,
           "ticks": "",
           "title": {
            "standoff": 15
           },
           "zerolinecolor": "white"
          }
         }
        },
        "title": {
         "text": "Number of runs each month across all years"
        },
        "xaxis": {
         "anchor": "y",
         "categoryarray": [
          "Jan",
          "Feb",
          "Mar",
          "Apr",
          "May",
          "Jun",
          "Jul",
          "Aug",
          "Sep",
          "Oct",
          "Nov",
          "Dec"
         ],
         "categoryorder": "array",
         "domain": [
          0,
          1
         ],
         "title": {
          "text": "Month"
         }
        },
        "yaxis": {
         "anchor": "x",
         "domain": [
          0,
          1
         ],
         "title": {
          "text": "count"
         }
        }
       }
      }
     },
     "metadata": {},
     "output_type": "display_data"
    },
    {
     "data": {
      "image/png": "[encoded data removed]",
      "text/plain": [
       "<Figure size 640x480 with 1 Axes>"
      ]
     },
     "metadata": {},
     "output_type": "display_data"
    }
   ],
   "source": [
    "# graph: number of runs in each month\n",
    "\n",
    "# ---- MATPLOTLIB ----\n",
    "monthly_counts = df_dates['Month'].value_counts().sort_index()\n",
    "\n",
    "bar_month, bar_month_ax = plt.subplots()\n",
    "bar_month_ax.bar(monthly_counts.index, \n",
    "                 monthly_counts.values, \n",
    "                 color = 'lightblue', \n",
    "                 edgecolor = 'black')\n",
    "\n",
    "bar_month_ax.set_xlabel('Month')\n",
    "bar_month_ax.set_ylabel('Number of runs')\n",
    "bar_month_ax.set_title('Number of runs each month across all years')\n",
    "\n",
    "# ---- PLOTLY ----\n",
    "df_dates['Month'] = pd.Categorical(df_dates['Month'], categories = month_arr, ordered=True)\n",
    "\n",
    "month_hist = px.histogram(\n",
    "        df_dates,\n",
    "        x = 'Month',\n",
    "        nbins = 12,\n",
    "        labels = {'Month': 'Month', 'count': 'Number of runs'},\n",
    "        title = 'Number of runs each month across all years',\n",
    "        template = 'seaborn'\n",
    "    )\n",
    "month_hist.update_traces(marker_line_width = 1, marker_line_color = 'white')\n",
    "month_hist.update_xaxes(categoryorder = 'array', categoryarray = month_arr)\n",
    "month_hist.show()"
   ]
  },
  {
   "cell_type": "code",
   "execution_count": null,
   "metadata": {},
   "outputs": [
    {
     "data": {
      "text/html": [
       "<div>\n",
       "<style scoped>\n",
       "    .dataframe tbody tr th:only-of-type {\n",
       "        vertical-align: middle;\n",
       "    }\n",
       "\n",
       "    .dataframe tbody tr th {\n",
       "        vertical-align: top;\n",
       "    }\n",
       "\n",
       "    .dataframe thead th {\n",
       "        text-align: right;\n",
       "    }\n",
       "</style>\n",
       "<table border=\"1\" class=\"dataframe\">\n",
       "  <thead>\n",
       "    <tr style=\"text-align: right;\">\n",
       "      <th></th>\n",
       "      <th>Date</th>\n",
       "      <th>Year</th>\n",
       "      <th>Month</th>\n",
       "      <th>Name</th>\n",
       "      <th>Type</th>\n",
       "      <th>Description</th>\n",
       "      <th>Elapsed Time</th>\n",
       "      <th>Moving Time</th>\n",
       "      <th>Distance</th>\n",
       "      <th>Elevation Gain</th>\n",
       "      <th>Elevation Loss</th>\n",
       "      <th>Pace</th>\n",
       "    </tr>\n",
       "  </thead>\n",
       "  <tbody>\n",
       "    <tr>\n",
       "      <th>0</th>\n",
       "      <td>Jun 8, 2021, 10:57:53 PM</td>\n",
       "      <td>2021</td>\n",
       "      <td>Jun</td>\n",
       "      <td>Evening Run</td>\n",
       "      <td>Run</td>\n",
       "      <td>NaN</td>\n",
       "      <td>49.983333</td>\n",
       "      <td>30.083333</td>\n",
       "      <td>3.32235</td>\n",
       "      <td>138.346207</td>\n",
       "      <td>138.345993</td>\n",
       "      <td>9.054836</td>\n",
       "    </tr>\n",
       "    <tr>\n",
       "      <th>1</th>\n",
       "      <td>Jun 10, 2021, 11:27:28 PM</td>\n",
       "      <td>2021</td>\n",
       "      <td>Jun</td>\n",
       "      <td>Evening Run</td>\n",
       "      <td>Run</td>\n",
       "      <td>NaN</td>\n",
       "      <td>32.650000</td>\n",
       "      <td>31.950000</td>\n",
       "      <td>3.03048</td>\n",
       "      <td>115.467758</td>\n",
       "      <td>128.367996</td>\n",
       "      <td>10.542884</td>\n",
       "    </tr>\n",
       "    <tr>\n",
       "      <th>2</th>\n",
       "      <td>Jun 11, 2021, 10:03:23 PM</td>\n",
       "      <td>2021</td>\n",
       "      <td>Jun</td>\n",
       "      <td>Evening Run</td>\n",
       "      <td>Run</td>\n",
       "      <td>NaN</td>\n",
       "      <td>18.133333</td>\n",
       "      <td>17.883333</td>\n",
       "      <td>1.99962</td>\n",
       "      <td>81.699196</td>\n",
       "      <td>81.599197</td>\n",
       "      <td>8.943366</td>\n",
       "    </tr>\n",
       "    <tr>\n",
       "      <th>3</th>\n",
       "      <td>Jun 12, 2021, 12:33:07 PM</td>\n",
       "      <td>2021</td>\n",
       "      <td>Jun</td>\n",
       "      <td>Morning Run</td>\n",
       "      <td>Run</td>\n",
       "      <td>NaN</td>\n",
       "      <td>8.616667</td>\n",
       "      <td>8.616667</td>\n",
       "      <td>1.04949</td>\n",
       "      <td>48.912777</td>\n",
       "      <td>49.012798</td>\n",
       "      <td>8.210337</td>\n",
       "    </tr>\n",
       "    <tr>\n",
       "      <th>4</th>\n",
       "      <td>Jun 16, 2021, 1:08:01 AM</td>\n",
       "      <td>2021</td>\n",
       "      <td>Jun</td>\n",
       "      <td>Evening Run</td>\n",
       "      <td>Run</td>\n",
       "      <td>NaN</td>\n",
       "      <td>19.783333</td>\n",
       "      <td>16.783333</td>\n",
       "      <td>1.06191</td>\n",
       "      <td>0.000000</td>\n",
       "      <td>0.100000</td>\n",
       "      <td>15.804855</td>\n",
       "    </tr>\n",
       "    <tr>\n",
       "      <th>...</th>\n",
       "      <td>...</td>\n",
       "      <td>...</td>\n",
       "      <td>...</td>\n",
       "      <td>...</td>\n",
       "      <td>...</td>\n",
       "      <td>...</td>\n",
       "      <td>...</td>\n",
       "      <td>...</td>\n",
       "      <td>...</td>\n",
       "      <td>...</td>\n",
       "      <td>...</td>\n",
       "      <td>...</td>\n",
       "    </tr>\n",
       "    <tr>\n",
       "      <th>134</th>\n",
       "      <td>Nov 6, 2021, 1:10:07 PM</td>\n",
       "      <td>2021</td>\n",
       "      <td>Nov</td>\n",
       "      <td>VG Boring</td>\n",
       "      <td>Run</td>\n",
       "      <td>NaN</td>\n",
       "      <td>48.633333</td>\n",
       "      <td>47.616667</td>\n",
       "      <td>6.07959</td>\n",
       "      <td>103.411903</td>\n",
       "      <td>101.811997</td>\n",
       "      <td>7.832217</td>\n",
       "    </tr>\n",
       "    <tr>\n",
       "      <th>135</th>\n",
       "      <td>Nov 8, 2021, 9:10:46 PM</td>\n",
       "      <td>2021</td>\n",
       "      <td>Nov</td>\n",
       "      <td>Afternoon Run</td>\n",
       "      <td>Run</td>\n",
       "      <td>NaN</td>\n",
       "      <td>36.500000</td>\n",
       "      <td>34.066667</td>\n",
       "      <td>4.07376</td>\n",
       "      <td>48.577778</td>\n",
       "      <td>36.977779</td>\n",
       "      <td>8.362463</td>\n",
       "    </tr>\n",
       "    <tr>\n",
       "      <th>136</th>\n",
       "      <td>Nov 9, 2021, 9:02:47 PM</td>\n",
       "      <td>2021</td>\n",
       "      <td>Nov</td>\n",
       "      <td>Sweet Briar Workout</td>\n",
       "      <td>Run</td>\n",
       "      <td>4x1000</td>\n",
       "      <td>56.216667</td>\n",
       "      <td>46.900000</td>\n",
       "      <td>6.15411</td>\n",
       "      <td>89.128418</td>\n",
       "      <td>89.728401</td>\n",
       "      <td>7.620923</td>\n",
       "    </tr>\n",
       "    <tr>\n",
       "      <th>137</th>\n",
       "      <td>Nov 10, 2021, 9:24:15 PM</td>\n",
       "      <td>2021</td>\n",
       "      <td>Nov</td>\n",
       "      <td>Afternoon Run</td>\n",
       "      <td>Run</td>\n",
       "      <td>Left foot hurts when I put weight on it</td>\n",
       "      <td>43.066667</td>\n",
       "      <td>39.983333</td>\n",
       "      <td>4.99905</td>\n",
       "      <td>72.631348</td>\n",
       "      <td>68.231300</td>\n",
       "      <td>7.998186</td>\n",
       "    </tr>\n",
       "    <tr>\n",
       "      <th>138</th>\n",
       "      <td>Nov 12, 2021, 10:28:16 PM</td>\n",
       "      <td>2021</td>\n",
       "      <td>Nov</td>\n",
       "      <td>Afternoon Run</td>\n",
       "      <td>Run</td>\n",
       "      <td>NaN</td>\n",
       "      <td>17.466667</td>\n",
       "      <td>9.783333</td>\n",
       "      <td>1.16748</td>\n",
       "      <td>18.833334</td>\n",
       "      <td>30.333334</td>\n",
       "      <td>8.379872</td>\n",
       "    </tr>\n",
       "  </tbody>\n",
       "</table>\n",
       "<p>139 rows × 12 columns</p>\n",
       "</div>"
      ],
      "text/plain": [
       "                          Date  Year Month                 Name Type  \\\n",
       "0     Jun 8, 2021, 10:57:53 PM  2021   Jun          Evening Run  Run   \n",
       "1    Jun 10, 2021, 11:27:28 PM  2021   Jun          Evening Run  Run   \n",
       "2    Jun 11, 2021, 10:03:23 PM  2021   Jun          Evening Run  Run   \n",
       "3    Jun 12, 2021, 12:33:07 PM  2021   Jun          Morning Run  Run   \n",
       "4     Jun 16, 2021, 1:08:01 AM  2021   Jun          Evening Run  Run   \n",
       "..                         ...   ...   ...                  ...  ...   \n",
       "134    Nov 6, 2021, 1:10:07 PM  2021   Nov            VG Boring  Run   \n",
       "135    Nov 8, 2021, 9:10:46 PM  2021   Nov        Afternoon Run  Run   \n",
       "136    Nov 9, 2021, 9:02:47 PM  2021   Nov  Sweet Briar Workout  Run   \n",
       "137   Nov 10, 2021, 9:24:15 PM  2021   Nov        Afternoon Run  Run   \n",
       "138  Nov 12, 2021, 10:28:16 PM  2021   Nov        Afternoon Run  Run   \n",
       "\n",
       "                                 Description  Elapsed Time  Moving Time  \\\n",
       "0                                        NaN     49.983333    30.083333   \n",
       "1                                        NaN     32.650000    31.950000   \n",
       "2                                        NaN     18.133333    17.883333   \n",
       "3                                        NaN      8.616667     8.616667   \n",
       "4                                        NaN     19.783333    16.783333   \n",
       "..                                       ...           ...          ...   \n",
       "134                                      NaN     48.633333    47.616667   \n",
       "135                                      NaN     36.500000    34.066667   \n",
       "136                                   4x1000     56.216667    46.900000   \n",
       "137  Left foot hurts when I put weight on it     43.066667    39.983333   \n",
       "138                                      NaN     17.466667     9.783333   \n",
       "\n",
       "     Distance  Elevation Gain  Elevation Loss       Pace  \n",
       "0     3.32235      138.346207      138.345993   9.054836  \n",
       "1     3.03048      115.467758      128.367996  10.542884  \n",
       "2     1.99962       81.699196       81.599197   8.943366  \n",
       "3     1.04949       48.912777       49.012798   8.210337  \n",
       "4     1.06191        0.000000        0.100000  15.804855  \n",
       "..        ...             ...             ...        ...  \n",
       "134   6.07959      103.411903      101.811997   7.832217  \n",
       "135   4.07376       48.577778       36.977779   8.362463  \n",
       "136   6.15411       89.128418       89.728401   7.620923  \n",
       "137   4.99905       72.631348       68.231300   7.998186  \n",
       "138   1.16748       18.833334       30.333334   8.379872  \n",
       "\n",
       "[139 rows x 12 columns]"
      ]
     },
     "execution_count": 70,
     "metadata": {},
     "output_type": "execute_result"
    }
   ],
   "source": [
    "# adding month and year columns to df_dates df\n",
    "# df_runs['Year'] = df_runs['Year'].str.contains(\"2021\")\n",
    "\n",
    "df_2021 = df_dates[df_dates['Date'].str.contains(\"2021\")]\n",
    "df_2022= df_dates[df_dates['Date'].str.contains(\"2022\")]\n",
    "df_2023 = df_dates[df_dates['Date'].str.contains(\"2023\")]\n",
    "df_2024 = df_dates[df_dates['Date'].str.contains(\"2024\")]\n",
    "\n",
    "# to-do: create yearly summaries\n",
    "\n"
   ]
  }
 ],
 "metadata": {
  "kernelspec": {
   "display_name": "base",
   "language": "python",
   "name": "python3"
  },
  "language_info": {
   "codemirror_mode": {
    "name": "ipython",
    "version": 3
   },
   "file_extension": ".py",
   "mimetype": "text/x-python",
   "name": "python",
   "nbconvert_exporter": "python",
   "pygments_lexer": "ipython3",
   "version": "3.12.4"
  }
 },
 "nbformat": 4,
 "nbformat_minor": 2
}
